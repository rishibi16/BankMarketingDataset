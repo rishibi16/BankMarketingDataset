{
 "cells": [
  {
   "cell_type": "code",
   "execution_count": 1,
   "metadata": {},
   "outputs": [],
   "source": [
    "import pandas as pd\n",
    "import numpy as np\n",
    "import matplotlib.pyplot as plt\n",
    "#import matplotlib.pylib as pylab\n",
    "import seaborn as sns\n",
    "%matplotlib inline"
   ]
  },
  {
   "cell_type": "code",
   "execution_count": 2,
   "metadata": {},
   "outputs": [],
   "source": [
    "from sklearn.model_selection import train_test_split\n",
    "from sklearn.metrics import accuracy_score, confusion_matrix\n",
    "from sklearn.model_selection import KFold\n",
    "from sklearn.model_selection import cross_val_score\n",
    "from sklearn.model_selection import cross_val_predict"
   ]
  },
  {
   "cell_type": "code",
   "execution_count": 3,
   "metadata": {},
   "outputs": [
    {
     "data": {
      "text/html": [
       "<div>\n",
       "<style scoped>\n",
       "    .dataframe tbody tr th:only-of-type {\n",
       "        vertical-align: middle;\n",
       "    }\n",
       "\n",
       "    .dataframe tbody tr th {\n",
       "        vertical-align: top;\n",
       "    }\n",
       "\n",
       "    .dataframe thead th {\n",
       "        text-align: right;\n",
       "    }\n",
       "</style>\n",
       "<table border=\"1\" class=\"dataframe\">\n",
       "  <thead>\n",
       "    <tr style=\"text-align: right;\">\n",
       "      <th></th>\n",
       "      <th>age</th>\n",
       "      <th>job</th>\n",
       "      <th>marital</th>\n",
       "      <th>education</th>\n",
       "      <th>default</th>\n",
       "      <th>housing</th>\n",
       "      <th>loan</th>\n",
       "      <th>contact</th>\n",
       "      <th>month</th>\n",
       "      <th>day_of_week</th>\n",
       "      <th>...</th>\n",
       "      <th>campaign</th>\n",
       "      <th>pdays</th>\n",
       "      <th>previous</th>\n",
       "      <th>poutcome</th>\n",
       "      <th>emp.var.rate</th>\n",
       "      <th>cons.price.idx</th>\n",
       "      <th>cons.conf.idx</th>\n",
       "      <th>euribor3m</th>\n",
       "      <th>nr.employed</th>\n",
       "      <th>y</th>\n",
       "    </tr>\n",
       "  </thead>\n",
       "  <tbody>\n",
       "    <tr>\n",
       "      <th>0</th>\n",
       "      <td>56</td>\n",
       "      <td>housemaid</td>\n",
       "      <td>married</td>\n",
       "      <td>basic.4y</td>\n",
       "      <td>no</td>\n",
       "      <td>no</td>\n",
       "      <td>no</td>\n",
       "      <td>telephone</td>\n",
       "      <td>may</td>\n",
       "      <td>mon</td>\n",
       "      <td>...</td>\n",
       "      <td>1</td>\n",
       "      <td>999</td>\n",
       "      <td>0</td>\n",
       "      <td>nonexistent</td>\n",
       "      <td>1.1</td>\n",
       "      <td>93.994</td>\n",
       "      <td>-36.4</td>\n",
       "      <td>4.857</td>\n",
       "      <td>5191.0</td>\n",
       "      <td>no</td>\n",
       "    </tr>\n",
       "    <tr>\n",
       "      <th>1</th>\n",
       "      <td>57</td>\n",
       "      <td>services</td>\n",
       "      <td>married</td>\n",
       "      <td>high.school</td>\n",
       "      <td>unknown</td>\n",
       "      <td>no</td>\n",
       "      <td>no</td>\n",
       "      <td>telephone</td>\n",
       "      <td>may</td>\n",
       "      <td>mon</td>\n",
       "      <td>...</td>\n",
       "      <td>1</td>\n",
       "      <td>999</td>\n",
       "      <td>0</td>\n",
       "      <td>nonexistent</td>\n",
       "      <td>1.1</td>\n",
       "      <td>93.994</td>\n",
       "      <td>-36.4</td>\n",
       "      <td>4.857</td>\n",
       "      <td>5191.0</td>\n",
       "      <td>no</td>\n",
       "    </tr>\n",
       "    <tr>\n",
       "      <th>2</th>\n",
       "      <td>37</td>\n",
       "      <td>services</td>\n",
       "      <td>married</td>\n",
       "      <td>high.school</td>\n",
       "      <td>no</td>\n",
       "      <td>yes</td>\n",
       "      <td>no</td>\n",
       "      <td>telephone</td>\n",
       "      <td>may</td>\n",
       "      <td>mon</td>\n",
       "      <td>...</td>\n",
       "      <td>1</td>\n",
       "      <td>999</td>\n",
       "      <td>0</td>\n",
       "      <td>nonexistent</td>\n",
       "      <td>1.1</td>\n",
       "      <td>93.994</td>\n",
       "      <td>-36.4</td>\n",
       "      <td>4.857</td>\n",
       "      <td>5191.0</td>\n",
       "      <td>no</td>\n",
       "    </tr>\n",
       "    <tr>\n",
       "      <th>3</th>\n",
       "      <td>40</td>\n",
       "      <td>admin.</td>\n",
       "      <td>married</td>\n",
       "      <td>basic.6y</td>\n",
       "      <td>no</td>\n",
       "      <td>no</td>\n",
       "      <td>no</td>\n",
       "      <td>telephone</td>\n",
       "      <td>may</td>\n",
       "      <td>mon</td>\n",
       "      <td>...</td>\n",
       "      <td>1</td>\n",
       "      <td>999</td>\n",
       "      <td>0</td>\n",
       "      <td>nonexistent</td>\n",
       "      <td>1.1</td>\n",
       "      <td>93.994</td>\n",
       "      <td>-36.4</td>\n",
       "      <td>4.857</td>\n",
       "      <td>5191.0</td>\n",
       "      <td>no</td>\n",
       "    </tr>\n",
       "    <tr>\n",
       "      <th>4</th>\n",
       "      <td>56</td>\n",
       "      <td>services</td>\n",
       "      <td>married</td>\n",
       "      <td>high.school</td>\n",
       "      <td>no</td>\n",
       "      <td>no</td>\n",
       "      <td>yes</td>\n",
       "      <td>telephone</td>\n",
       "      <td>may</td>\n",
       "      <td>mon</td>\n",
       "      <td>...</td>\n",
       "      <td>1</td>\n",
       "      <td>999</td>\n",
       "      <td>0</td>\n",
       "      <td>nonexistent</td>\n",
       "      <td>1.1</td>\n",
       "      <td>93.994</td>\n",
       "      <td>-36.4</td>\n",
       "      <td>4.857</td>\n",
       "      <td>5191.0</td>\n",
       "      <td>no</td>\n",
       "    </tr>\n",
       "  </tbody>\n",
       "</table>\n",
       "<p>5 rows × 21 columns</p>\n",
       "</div>"
      ],
      "text/plain": [
       "   age        job  marital    education  default housing loan    contact  \\\n",
       "0   56  housemaid  married     basic.4y       no      no   no  telephone   \n",
       "1   57   services  married  high.school  unknown      no   no  telephone   \n",
       "2   37   services  married  high.school       no     yes   no  telephone   \n",
       "3   40     admin.  married     basic.6y       no      no   no  telephone   \n",
       "4   56   services  married  high.school       no      no  yes  telephone   \n",
       "\n",
       "  month day_of_week  ...  campaign  pdays  previous     poutcome emp.var.rate  \\\n",
       "0   may         mon  ...         1    999         0  nonexistent          1.1   \n",
       "1   may         mon  ...         1    999         0  nonexistent          1.1   \n",
       "2   may         mon  ...         1    999         0  nonexistent          1.1   \n",
       "3   may         mon  ...         1    999         0  nonexistent          1.1   \n",
       "4   may         mon  ...         1    999         0  nonexistent          1.1   \n",
       "\n",
       "   cons.price.idx  cons.conf.idx  euribor3m  nr.employed   y  \n",
       "0          93.994          -36.4      4.857       5191.0  no  \n",
       "1          93.994          -36.4      4.857       5191.0  no  \n",
       "2          93.994          -36.4      4.857       5191.0  no  \n",
       "3          93.994          -36.4      4.857       5191.0  no  \n",
       "4          93.994          -36.4      4.857       5191.0  no  \n",
       "\n",
       "[5 rows x 21 columns]"
      ]
     },
     "execution_count": 3,
     "metadata": {},
     "output_type": "execute_result"
    }
   ],
   "source": [
    "data = pd.read_csv('bank-additional-full.csv', sep=\";\", error_bad_lines=False, encoding='latin-1')\n",
    "data.head()"
   ]
  },
  {
   "cell_type": "code",
   "execution_count": 4,
   "metadata": {},
   "outputs": [
    {
     "data": {
      "text/plain": [
       "(41188, 21)"
      ]
     },
     "execution_count": 4,
     "metadata": {},
     "output_type": "execute_result"
    }
   ],
   "source": [
    "data.shape"
   ]
  },
  {
   "cell_type": "code",
   "execution_count": 5,
   "metadata": {},
   "outputs": [
    {
     "data": {
      "text/plain": [
       "age               0\n",
       "job               0\n",
       "marital           0\n",
       "education         0\n",
       "default           0\n",
       "housing           0\n",
       "loan              0\n",
       "contact           0\n",
       "month             0\n",
       "day_of_week       0\n",
       "duration          0\n",
       "campaign          0\n",
       "pdays             0\n",
       "previous          0\n",
       "poutcome          0\n",
       "emp.var.rate      0\n",
       "cons.price.idx    0\n",
       "cons.conf.idx     0\n",
       "euribor3m         0\n",
       "nr.employed       0\n",
       "y                 0\n",
       "dtype: int64"
      ]
     },
     "execution_count": 5,
     "metadata": {},
     "output_type": "execute_result"
    }
   ],
   "source": [
    "data.isnull().sum()"
   ]
  },
  {
   "cell_type": "code",
   "execution_count": 6,
   "metadata": {},
   "outputs": [
    {
     "data": {
      "text/html": [
       "<div>\n",
       "<style scoped>\n",
       "    .dataframe tbody tr th:only-of-type {\n",
       "        vertical-align: middle;\n",
       "    }\n",
       "\n",
       "    .dataframe tbody tr th {\n",
       "        vertical-align: top;\n",
       "    }\n",
       "\n",
       "    .dataframe thead th {\n",
       "        text-align: right;\n",
       "    }\n",
       "</style>\n",
       "<table border=\"1\" class=\"dataframe\">\n",
       "  <thead>\n",
       "    <tr style=\"text-align: right;\">\n",
       "      <th></th>\n",
       "      <th>age</th>\n",
       "      <th>duration</th>\n",
       "      <th>campaign</th>\n",
       "      <th>pdays</th>\n",
       "      <th>previous</th>\n",
       "      <th>emp.var.rate</th>\n",
       "      <th>cons.price.idx</th>\n",
       "      <th>cons.conf.idx</th>\n",
       "      <th>euribor3m</th>\n",
       "      <th>nr.employed</th>\n",
       "    </tr>\n",
       "  </thead>\n",
       "  <tbody>\n",
       "    <tr>\n",
       "      <th>count</th>\n",
       "      <td>41188.00000</td>\n",
       "      <td>41188.000000</td>\n",
       "      <td>41188.000000</td>\n",
       "      <td>41188.000000</td>\n",
       "      <td>41188.000000</td>\n",
       "      <td>41188.000000</td>\n",
       "      <td>41188.000000</td>\n",
       "      <td>41188.000000</td>\n",
       "      <td>41188.000000</td>\n",
       "      <td>41188.000000</td>\n",
       "    </tr>\n",
       "    <tr>\n",
       "      <th>mean</th>\n",
       "      <td>40.02406</td>\n",
       "      <td>258.285010</td>\n",
       "      <td>2.567593</td>\n",
       "      <td>962.475454</td>\n",
       "      <td>0.172963</td>\n",
       "      <td>0.081886</td>\n",
       "      <td>93.575664</td>\n",
       "      <td>-40.502600</td>\n",
       "      <td>3.621291</td>\n",
       "      <td>5167.035911</td>\n",
       "    </tr>\n",
       "    <tr>\n",
       "      <th>std</th>\n",
       "      <td>10.42125</td>\n",
       "      <td>259.279249</td>\n",
       "      <td>2.770014</td>\n",
       "      <td>186.910907</td>\n",
       "      <td>0.494901</td>\n",
       "      <td>1.570960</td>\n",
       "      <td>0.578840</td>\n",
       "      <td>4.628198</td>\n",
       "      <td>1.734447</td>\n",
       "      <td>72.251528</td>\n",
       "    </tr>\n",
       "    <tr>\n",
       "      <th>min</th>\n",
       "      <td>17.00000</td>\n",
       "      <td>0.000000</td>\n",
       "      <td>1.000000</td>\n",
       "      <td>0.000000</td>\n",
       "      <td>0.000000</td>\n",
       "      <td>-3.400000</td>\n",
       "      <td>92.201000</td>\n",
       "      <td>-50.800000</td>\n",
       "      <td>0.634000</td>\n",
       "      <td>4963.600000</td>\n",
       "    </tr>\n",
       "    <tr>\n",
       "      <th>25%</th>\n",
       "      <td>32.00000</td>\n",
       "      <td>102.000000</td>\n",
       "      <td>1.000000</td>\n",
       "      <td>999.000000</td>\n",
       "      <td>0.000000</td>\n",
       "      <td>-1.800000</td>\n",
       "      <td>93.075000</td>\n",
       "      <td>-42.700000</td>\n",
       "      <td>1.344000</td>\n",
       "      <td>5099.100000</td>\n",
       "    </tr>\n",
       "    <tr>\n",
       "      <th>50%</th>\n",
       "      <td>38.00000</td>\n",
       "      <td>180.000000</td>\n",
       "      <td>2.000000</td>\n",
       "      <td>999.000000</td>\n",
       "      <td>0.000000</td>\n",
       "      <td>1.100000</td>\n",
       "      <td>93.749000</td>\n",
       "      <td>-41.800000</td>\n",
       "      <td>4.857000</td>\n",
       "      <td>5191.000000</td>\n",
       "    </tr>\n",
       "    <tr>\n",
       "      <th>75%</th>\n",
       "      <td>47.00000</td>\n",
       "      <td>319.000000</td>\n",
       "      <td>3.000000</td>\n",
       "      <td>999.000000</td>\n",
       "      <td>0.000000</td>\n",
       "      <td>1.400000</td>\n",
       "      <td>93.994000</td>\n",
       "      <td>-36.400000</td>\n",
       "      <td>4.961000</td>\n",
       "      <td>5228.100000</td>\n",
       "    </tr>\n",
       "    <tr>\n",
       "      <th>max</th>\n",
       "      <td>98.00000</td>\n",
       "      <td>4918.000000</td>\n",
       "      <td>56.000000</td>\n",
       "      <td>999.000000</td>\n",
       "      <td>7.000000</td>\n",
       "      <td>1.400000</td>\n",
       "      <td>94.767000</td>\n",
       "      <td>-26.900000</td>\n",
       "      <td>5.045000</td>\n",
       "      <td>5228.100000</td>\n",
       "    </tr>\n",
       "  </tbody>\n",
       "</table>\n",
       "</div>"
      ],
      "text/plain": [
       "               age      duration      campaign         pdays      previous  \\\n",
       "count  41188.00000  41188.000000  41188.000000  41188.000000  41188.000000   \n",
       "mean      40.02406    258.285010      2.567593    962.475454      0.172963   \n",
       "std       10.42125    259.279249      2.770014    186.910907      0.494901   \n",
       "min       17.00000      0.000000      1.000000      0.000000      0.000000   \n",
       "25%       32.00000    102.000000      1.000000    999.000000      0.000000   \n",
       "50%       38.00000    180.000000      2.000000    999.000000      0.000000   \n",
       "75%       47.00000    319.000000      3.000000    999.000000      0.000000   \n",
       "max       98.00000   4918.000000     56.000000    999.000000      7.000000   \n",
       "\n",
       "       emp.var.rate  cons.price.idx  cons.conf.idx     euribor3m   nr.employed  \n",
       "count  41188.000000    41188.000000   41188.000000  41188.000000  41188.000000  \n",
       "mean       0.081886       93.575664     -40.502600      3.621291   5167.035911  \n",
       "std        1.570960        0.578840       4.628198      1.734447     72.251528  \n",
       "min       -3.400000       92.201000     -50.800000      0.634000   4963.600000  \n",
       "25%       -1.800000       93.075000     -42.700000      1.344000   5099.100000  \n",
       "50%        1.100000       93.749000     -41.800000      4.857000   5191.000000  \n",
       "75%        1.400000       93.994000     -36.400000      4.961000   5228.100000  \n",
       "max        1.400000       94.767000     -26.900000      5.045000   5228.100000  "
      ]
     },
     "execution_count": 6,
     "metadata": {},
     "output_type": "execute_result"
    }
   ],
   "source": [
    "data.describe()"
   ]
  },
  {
   "cell_type": "code",
   "execution_count": 7,
   "metadata": {},
   "outputs": [
    {
     "data": {
      "text/plain": [
       "<matplotlib.axes._subplots.AxesSubplot at 0x1e661090ac8>"
      ]
     },
     "execution_count": 7,
     "metadata": {},
     "output_type": "execute_result"
    },
    {
     "data": {
      "image/png": "[encoded data removed]",
      "text/plain": [
       "<Figure size 432x288 with 1 Axes>"
      ]
     },
     "metadata": {
      "needs_background": "light"
     },
     "output_type": "display_data"
    }
   ],
   "source": [
    "data.age.plot.hist()"
   ]
  },
  {
   "cell_type": "code",
   "execution_count": 8,
   "metadata": {},
   "outputs": [
    {
     "data": {
      "text/plain": [
       "<matplotlib.axes._subplots.AxesSubplot at 0x1e663187c48>"
      ]
     },
     "execution_count": 8,
     "metadata": {},
     "output_type": "execute_result"
    },
    {
     "data": {
      "image/png": "[encoded data removed]",
      "text/plain": [
       "<Figure size 432x288 with 1 Axes>"
      ]
     },
     "metadata": {
      "needs_background": "light"
     },
     "output_type": "display_data"
    }
   ],
   "source": [
    "sns.boxplot(x='age', data=data)"
   ]
  },
  {
   "cell_type": "code",
   "execution_count": 9,
   "metadata": {},
   "outputs": [
    {
     "data": {
      "text/plain": [
       "536"
      ]
     },
     "execution_count": 9,
     "metadata": {},
     "output_type": "execute_result"
    }
   ],
   "source": [
    "len(data[data['age'] > 67])"
   ]
  },
  {
   "cell_type": "code",
   "execution_count": 10,
   "metadata": {},
   "outputs": [],
   "source": [
    "mask = data.age > 67\n",
    "column = \"age\"\n",
    "data.loc[mask, column] = 67\n",
    "#data.loc[data.age > 67] = 67"
   ]
  },
  {
   "cell_type": "code",
   "execution_count": 11,
   "metadata": {},
   "outputs": [
    {
     "data": {
      "text/plain": [
       "<matplotlib.axes._subplots.AxesSubplot at 0x1e6632230c8>"
      ]
     },
     "execution_count": 11,
     "metadata": {},
     "output_type": "execute_result"
    },
    {
     "data": {
      "image/png": "[encoded data removed]",
      "text/plain": [
       "<Figure size 432x288 with 1 Axes>"
      ]
     },
     "metadata": {
      "needs_background": "light"
     },
     "output_type": "display_data"
    }
   ],
   "source": [
    "sns.boxplot(x=\"age\", data=data)"
   ]
  },
  {
   "cell_type": "code",
   "execution_count": 12,
   "metadata": {},
   "outputs": [
    {
     "data": {
      "text/plain": [
       "<matplotlib.axes._subplots.AxesSubplot at 0x1e663128c48>"
      ]
     },
     "execution_count": 12,
     "metadata": {},
     "output_type": "execute_result"
    },
    {
     "data": {
      "image/png": "[encoded data removed]",
      "text/plain": [
       "<Figure size 432x288 with 1 Axes>"
      ]
     },
     "metadata": {
      "needs_background": "light"
     },
     "output_type": "display_data"
    }
   ],
   "source": [
    "data.age.plot.hist()"
   ]
  },
  {
   "cell_type": "code",
   "execution_count": 13,
   "metadata": {},
   "outputs": [
    {
     "data": {
      "text/plain": [
       "admin.           10422\n",
       "blue-collar       9254\n",
       "technician        6743\n",
       "services          3969\n",
       "management        2924\n",
       "retired           1720\n",
       "entrepreneur      1456\n",
       "self-employed     1421\n",
       "housemaid         1060\n",
       "unemployed        1014\n",
       "student            875\n",
       "unknown            330\n",
       "Name: job, dtype: int64"
      ]
     },
     "execution_count": 13,
     "metadata": {},
     "output_type": "execute_result"
    }
   ],
   "source": [
    "data.job.value_counts()"
   ]
  },
  {
   "cell_type": "code",
   "execution_count": 14,
   "metadata": {},
   "outputs": [
    {
     "data": {
      "text/html": [
       "<div>\n",
       "<style scoped>\n",
       "    .dataframe tbody tr th:only-of-type {\n",
       "        vertical-align: middle;\n",
       "    }\n",
       "\n",
       "    .dataframe tbody tr th {\n",
       "        vertical-align: top;\n",
       "    }\n",
       "\n",
       "    .dataframe thead th {\n",
       "        text-align: right;\n",
       "    }\n",
       "</style>\n",
       "<table border=\"1\" class=\"dataframe\">\n",
       "  <thead>\n",
       "    <tr style=\"text-align: right;\">\n",
       "      <th></th>\n",
       "      <th>age</th>\n",
       "      <th>job</th>\n",
       "      <th>marital</th>\n",
       "      <th>education</th>\n",
       "      <th>default</th>\n",
       "      <th>housing</th>\n",
       "      <th>loan</th>\n",
       "      <th>contact</th>\n",
       "      <th>month</th>\n",
       "      <th>day_of_week</th>\n",
       "      <th>...</th>\n",
       "      <th>campaign</th>\n",
       "      <th>pdays</th>\n",
       "      <th>previous</th>\n",
       "      <th>poutcome</th>\n",
       "      <th>emp.var.rate</th>\n",
       "      <th>cons.price.idx</th>\n",
       "      <th>cons.conf.idx</th>\n",
       "      <th>euribor3m</th>\n",
       "      <th>nr.employed</th>\n",
       "      <th>y</th>\n",
       "    </tr>\n",
       "  </thead>\n",
       "  <tbody>\n",
       "    <tr>\n",
       "      <th>0</th>\n",
       "      <td>56</td>\n",
       "      <td>housemaid</td>\n",
       "      <td>married</td>\n",
       "      <td>basic.4y</td>\n",
       "      <td>no</td>\n",
       "      <td>no</td>\n",
       "      <td>no</td>\n",
       "      <td>telephone</td>\n",
       "      <td>may</td>\n",
       "      <td>mon</td>\n",
       "      <td>...</td>\n",
       "      <td>1</td>\n",
       "      <td>999</td>\n",
       "      <td>0</td>\n",
       "      <td>nonexistent</td>\n",
       "      <td>1.1</td>\n",
       "      <td>93.994</td>\n",
       "      <td>-36.4</td>\n",
       "      <td>4.857</td>\n",
       "      <td>5191.0</td>\n",
       "      <td>no</td>\n",
       "    </tr>\n",
       "    <tr>\n",
       "      <th>1</th>\n",
       "      <td>57</td>\n",
       "      <td>services</td>\n",
       "      <td>married</td>\n",
       "      <td>high.school</td>\n",
       "      <td>unknown</td>\n",
       "      <td>no</td>\n",
       "      <td>no</td>\n",
       "      <td>telephone</td>\n",
       "      <td>may</td>\n",
       "      <td>mon</td>\n",
       "      <td>...</td>\n",
       "      <td>1</td>\n",
       "      <td>999</td>\n",
       "      <td>0</td>\n",
       "      <td>nonexistent</td>\n",
       "      <td>1.1</td>\n",
       "      <td>93.994</td>\n",
       "      <td>-36.4</td>\n",
       "      <td>4.857</td>\n",
       "      <td>5191.0</td>\n",
       "      <td>no</td>\n",
       "    </tr>\n",
       "    <tr>\n",
       "      <th>2</th>\n",
       "      <td>37</td>\n",
       "      <td>services</td>\n",
       "      <td>married</td>\n",
       "      <td>high.school</td>\n",
       "      <td>no</td>\n",
       "      <td>yes</td>\n",
       "      <td>no</td>\n",
       "      <td>telephone</td>\n",
       "      <td>may</td>\n",
       "      <td>mon</td>\n",
       "      <td>...</td>\n",
       "      <td>1</td>\n",
       "      <td>999</td>\n",
       "      <td>0</td>\n",
       "      <td>nonexistent</td>\n",
       "      <td>1.1</td>\n",
       "      <td>93.994</td>\n",
       "      <td>-36.4</td>\n",
       "      <td>4.857</td>\n",
       "      <td>5191.0</td>\n",
       "      <td>no</td>\n",
       "    </tr>\n",
       "    <tr>\n",
       "      <th>3</th>\n",
       "      <td>40</td>\n",
       "      <td>admin.</td>\n",
       "      <td>married</td>\n",
       "      <td>basic.6y</td>\n",
       "      <td>no</td>\n",
       "      <td>no</td>\n",
       "      <td>no</td>\n",
       "      <td>telephone</td>\n",
       "      <td>may</td>\n",
       "      <td>mon</td>\n",
       "      <td>...</td>\n",
       "      <td>1</td>\n",
       "      <td>999</td>\n",
       "      <td>0</td>\n",
       "      <td>nonexistent</td>\n",
       "      <td>1.1</td>\n",
       "      <td>93.994</td>\n",
       "      <td>-36.4</td>\n",
       "      <td>4.857</td>\n",
       "      <td>5191.0</td>\n",
       "      <td>no</td>\n",
       "    </tr>\n",
       "    <tr>\n",
       "      <th>4</th>\n",
       "      <td>56</td>\n",
       "      <td>services</td>\n",
       "      <td>married</td>\n",
       "      <td>high.school</td>\n",
       "      <td>no</td>\n",
       "      <td>no</td>\n",
       "      <td>yes</td>\n",
       "      <td>telephone</td>\n",
       "      <td>may</td>\n",
       "      <td>mon</td>\n",
       "      <td>...</td>\n",
       "      <td>1</td>\n",
       "      <td>999</td>\n",
       "      <td>0</td>\n",
       "      <td>nonexistent</td>\n",
       "      <td>1.1</td>\n",
       "      <td>93.994</td>\n",
       "      <td>-36.4</td>\n",
       "      <td>4.857</td>\n",
       "      <td>5191.0</td>\n",
       "      <td>no</td>\n",
       "    </tr>\n",
       "  </tbody>\n",
       "</table>\n",
       "<p>5 rows × 21 columns</p>\n",
       "</div>"
      ],
      "text/plain": [
       "   age        job  marital    education  default housing loan    contact  \\\n",
       "0   56  housemaid  married     basic.4y       no      no   no  telephone   \n",
       "1   57   services  married  high.school  unknown      no   no  telephone   \n",
       "2   37   services  married  high.school       no     yes   no  telephone   \n",
       "3   40     admin.  married     basic.6y       no      no   no  telephone   \n",
       "4   56   services  married  high.school       no      no  yes  telephone   \n",
       "\n",
       "  month day_of_week  ...  campaign  pdays  previous     poutcome emp.var.rate  \\\n",
       "0   may         mon  ...         1    999         0  nonexistent          1.1   \n",
       "1   may         mon  ...         1    999         0  nonexistent          1.1   \n",
       "2   may         mon  ...         1    999         0  nonexistent          1.1   \n",
       "3   may         mon  ...         1    999         0  nonexistent          1.1   \n",
       "4   may         mon  ...         1    999         0  nonexistent          1.1   \n",
       "\n",
       "   cons.price.idx  cons.conf.idx  euribor3m  nr.employed   y  \n",
       "0          93.994          -36.4      4.857       5191.0  no  \n",
       "1          93.994          -36.4      4.857       5191.0  no  \n",
       "2          93.994          -36.4      4.857       5191.0  no  \n",
       "3          93.994          -36.4      4.857       5191.0  no  \n",
       "4          93.994          -36.4      4.857       5191.0  no  \n",
       "\n",
       "[5 rows x 21 columns]"
      ]
     },
     "execution_count": 14,
     "metadata": {},
     "output_type": "execute_result"
    }
   ],
   "source": [
    "data.head()"
   ]
  },
  {
   "cell_type": "code",
   "execution_count": 15,
   "metadata": {},
   "outputs": [
    {
     "data": {
      "text/plain": [
       "<matplotlib.axes._subplots.AxesSubplot at 0x1e66331e088>"
      ]
     },
     "execution_count": 15,
     "metadata": {},
     "output_type": "execute_result"
    },
    {
     "data": {
      "image/png": "[encoded data removed]",
      "text/plain": [
       "<Figure size 432x288 with 1 Axes>"
      ]
     },
     "metadata": {
      "needs_background": "light"
     },
     "output_type": "display_data"
    }
   ],
   "source": [
    "sns.boxplot(x=\"age\", y=\"job\", data=data)"
   ]
  },
  {
   "cell_type": "code",
   "execution_count": 16,
   "metadata": {},
   "outputs": [
    {
     "data": {
      "text/html": [
       "<div>\n",
       "<style scoped>\n",
       "    .dataframe tbody tr th:only-of-type {\n",
       "        vertical-align: middle;\n",
       "    }\n",
       "\n",
       "    .dataframe tbody tr th {\n",
       "        vertical-align: top;\n",
       "    }\n",
       "\n",
       "    .dataframe thead th {\n",
       "        text-align: right;\n",
       "    }\n",
       "</style>\n",
       "<table border=\"1\" class=\"dataframe\">\n",
       "  <thead>\n",
       "    <tr style=\"text-align: right;\">\n",
       "      <th>job</th>\n",
       "      <th>admin.</th>\n",
       "      <th>blue-collar</th>\n",
       "      <th>entrepreneur</th>\n",
       "      <th>housemaid</th>\n",
       "      <th>management</th>\n",
       "      <th>retired</th>\n",
       "      <th>self-employed</th>\n",
       "      <th>services</th>\n",
       "      <th>student</th>\n",
       "      <th>technician</th>\n",
       "      <th>unemployed</th>\n",
       "      <th>unknown</th>\n",
       "    </tr>\n",
       "    <tr>\n",
       "      <th>education</th>\n",
       "      <th></th>\n",
       "      <th></th>\n",
       "      <th></th>\n",
       "      <th></th>\n",
       "      <th></th>\n",
       "      <th></th>\n",
       "      <th></th>\n",
       "      <th></th>\n",
       "      <th></th>\n",
       "      <th></th>\n",
       "      <th></th>\n",
       "      <th></th>\n",
       "    </tr>\n",
       "  </thead>\n",
       "  <tbody>\n",
       "    <tr>\n",
       "      <th>basic.4y</th>\n",
       "      <td>77</td>\n",
       "      <td>2318</td>\n",
       "      <td>137</td>\n",
       "      <td>474</td>\n",
       "      <td>100</td>\n",
       "      <td>597</td>\n",
       "      <td>93</td>\n",
       "      <td>132</td>\n",
       "      <td>26</td>\n",
       "      <td>58</td>\n",
       "      <td>112</td>\n",
       "      <td>52</td>\n",
       "    </tr>\n",
       "    <tr>\n",
       "      <th>basic.6y</th>\n",
       "      <td>151</td>\n",
       "      <td>1426</td>\n",
       "      <td>71</td>\n",
       "      <td>77</td>\n",
       "      <td>85</td>\n",
       "      <td>75</td>\n",
       "      <td>25</td>\n",
       "      <td>226</td>\n",
       "      <td>13</td>\n",
       "      <td>87</td>\n",
       "      <td>34</td>\n",
       "      <td>22</td>\n",
       "    </tr>\n",
       "    <tr>\n",
       "      <th>basic.9y</th>\n",
       "      <td>499</td>\n",
       "      <td>3623</td>\n",
       "      <td>210</td>\n",
       "      <td>94</td>\n",
       "      <td>166</td>\n",
       "      <td>145</td>\n",
       "      <td>220</td>\n",
       "      <td>388</td>\n",
       "      <td>99</td>\n",
       "      <td>384</td>\n",
       "      <td>186</td>\n",
       "      <td>31</td>\n",
       "    </tr>\n",
       "    <tr>\n",
       "      <th>high.school</th>\n",
       "      <td>3329</td>\n",
       "      <td>878</td>\n",
       "      <td>234</td>\n",
       "      <td>174</td>\n",
       "      <td>298</td>\n",
       "      <td>276</td>\n",
       "      <td>118</td>\n",
       "      <td>2682</td>\n",
       "      <td>357</td>\n",
       "      <td>873</td>\n",
       "      <td>259</td>\n",
       "      <td>37</td>\n",
       "    </tr>\n",
       "    <tr>\n",
       "      <th>illiterate</th>\n",
       "      <td>1</td>\n",
       "      <td>8</td>\n",
       "      <td>2</td>\n",
       "      <td>1</td>\n",
       "      <td>0</td>\n",
       "      <td>3</td>\n",
       "      <td>3</td>\n",
       "      <td>0</td>\n",
       "      <td>0</td>\n",
       "      <td>0</td>\n",
       "      <td>0</td>\n",
       "      <td>0</td>\n",
       "    </tr>\n",
       "    <tr>\n",
       "      <th>professional.course</th>\n",
       "      <td>363</td>\n",
       "      <td>453</td>\n",
       "      <td>135</td>\n",
       "      <td>59</td>\n",
       "      <td>89</td>\n",
       "      <td>241</td>\n",
       "      <td>168</td>\n",
       "      <td>218</td>\n",
       "      <td>43</td>\n",
       "      <td>3320</td>\n",
       "      <td>142</td>\n",
       "      <td>12</td>\n",
       "    </tr>\n",
       "    <tr>\n",
       "      <th>university.degree</th>\n",
       "      <td>5753</td>\n",
       "      <td>94</td>\n",
       "      <td>610</td>\n",
       "      <td>139</td>\n",
       "      <td>2063</td>\n",
       "      <td>285</td>\n",
       "      <td>765</td>\n",
       "      <td>173</td>\n",
       "      <td>170</td>\n",
       "      <td>1809</td>\n",
       "      <td>262</td>\n",
       "      <td>45</td>\n",
       "    </tr>\n",
       "    <tr>\n",
       "      <th>unknown</th>\n",
       "      <td>249</td>\n",
       "      <td>454</td>\n",
       "      <td>57</td>\n",
       "      <td>42</td>\n",
       "      <td>123</td>\n",
       "      <td>98</td>\n",
       "      <td>29</td>\n",
       "      <td>150</td>\n",
       "      <td>167</td>\n",
       "      <td>212</td>\n",
       "      <td>19</td>\n",
       "      <td>131</td>\n",
       "    </tr>\n",
       "  </tbody>\n",
       "</table>\n",
       "</div>"
      ],
      "text/plain": [
       "job                  admin.  blue-collar  entrepreneur  housemaid  management  \\\n",
       "education                                                                       \n",
       "basic.4y                 77         2318           137        474         100   \n",
       "basic.6y                151         1426            71         77          85   \n",
       "basic.9y                499         3623           210         94         166   \n",
       "high.school            3329          878           234        174         298   \n",
       "illiterate                1            8             2          1           0   \n",
       "professional.course     363          453           135         59          89   \n",
       "university.degree      5753           94           610        139        2063   \n",
       "unknown                 249          454            57         42         123   \n",
       "\n",
       "job                  retired  self-employed  services  student  technician  \\\n",
       "education                                                                    \n",
       "basic.4y                 597             93       132       26          58   \n",
       "basic.6y                  75             25       226       13          87   \n",
       "basic.9y                 145            220       388       99         384   \n",
       "high.school              276            118      2682      357         873   \n",
       "illiterate                 3              3         0        0           0   \n",
       "professional.course      241            168       218       43        3320   \n",
       "university.degree        285            765       173      170        1809   \n",
       "unknown                   98             29       150      167         212   \n",
       "\n",
       "job                  unemployed  unknown  \n",
       "education                                 \n",
       "basic.4y                    112       52  \n",
       "basic.6y                     34       22  \n",
       "basic.9y                    186       31  \n",
       "high.school                 259       37  \n",
       "illiterate                    0        0  \n",
       "professional.course         142       12  \n",
       "university.degree           262       45  \n",
       "unknown                      19      131  "
      ]
     },
     "execution_count": 16,
     "metadata": {},
     "output_type": "execute_result"
    }
   ],
   "source": [
    "pd.crosstab(data.education, data.job)"
   ]
  },
  {
   "cell_type": "code",
   "execution_count": 17,
   "metadata": {},
   "outputs": [
    {
     "data": {
      "text/html": [
       "<div>\n",
       "<style scoped>\n",
       "    .dataframe tbody tr th:only-of-type {\n",
       "        vertical-align: middle;\n",
       "    }\n",
       "\n",
       "    .dataframe tbody tr th {\n",
       "        vertical-align: top;\n",
       "    }\n",
       "\n",
       "    .dataframe thead th {\n",
       "        text-align: right;\n",
       "    }\n",
       "</style>\n",
       "<table border=\"1\" class=\"dataframe\">\n",
       "  <thead>\n",
       "    <tr style=\"text-align: right;\">\n",
       "      <th>education</th>\n",
       "      <th>basic.4y</th>\n",
       "      <th>basic.6y</th>\n",
       "      <th>basic.9y</th>\n",
       "      <th>high.school</th>\n",
       "      <th>illiterate</th>\n",
       "      <th>professional.course</th>\n",
       "      <th>university.degree</th>\n",
       "      <th>unknown</th>\n",
       "    </tr>\n",
       "    <tr>\n",
       "      <th>job</th>\n",
       "      <th></th>\n",
       "      <th></th>\n",
       "      <th></th>\n",
       "      <th></th>\n",
       "      <th></th>\n",
       "      <th></th>\n",
       "      <th></th>\n",
       "      <th></th>\n",
       "    </tr>\n",
       "  </thead>\n",
       "  <tbody>\n",
       "    <tr>\n",
       "      <th>admin.</th>\n",
       "      <td>77</td>\n",
       "      <td>151</td>\n",
       "      <td>499</td>\n",
       "      <td>3329</td>\n",
       "      <td>1</td>\n",
       "      <td>363</td>\n",
       "      <td>5753</td>\n",
       "      <td>249</td>\n",
       "    </tr>\n",
       "    <tr>\n",
       "      <th>blue-collar</th>\n",
       "      <td>2318</td>\n",
       "      <td>1426</td>\n",
       "      <td>3623</td>\n",
       "      <td>878</td>\n",
       "      <td>8</td>\n",
       "      <td>453</td>\n",
       "      <td>94</td>\n",
       "      <td>454</td>\n",
       "    </tr>\n",
       "    <tr>\n",
       "      <th>entrepreneur</th>\n",
       "      <td>137</td>\n",
       "      <td>71</td>\n",
       "      <td>210</td>\n",
       "      <td>234</td>\n",
       "      <td>2</td>\n",
       "      <td>135</td>\n",
       "      <td>610</td>\n",
       "      <td>57</td>\n",
       "    </tr>\n",
       "    <tr>\n",
       "      <th>housemaid</th>\n",
       "      <td>474</td>\n",
       "      <td>77</td>\n",
       "      <td>94</td>\n",
       "      <td>174</td>\n",
       "      <td>1</td>\n",
       "      <td>59</td>\n",
       "      <td>139</td>\n",
       "      <td>42</td>\n",
       "    </tr>\n",
       "    <tr>\n",
       "      <th>management</th>\n",
       "      <td>100</td>\n",
       "      <td>85</td>\n",
       "      <td>166</td>\n",
       "      <td>298</td>\n",
       "      <td>0</td>\n",
       "      <td>89</td>\n",
       "      <td>2063</td>\n",
       "      <td>123</td>\n",
       "    </tr>\n",
       "    <tr>\n",
       "      <th>retired</th>\n",
       "      <td>597</td>\n",
       "      <td>75</td>\n",
       "      <td>145</td>\n",
       "      <td>276</td>\n",
       "      <td>3</td>\n",
       "      <td>241</td>\n",
       "      <td>285</td>\n",
       "      <td>98</td>\n",
       "    </tr>\n",
       "    <tr>\n",
       "      <th>self-employed</th>\n",
       "      <td>93</td>\n",
       "      <td>25</td>\n",
       "      <td>220</td>\n",
       "      <td>118</td>\n",
       "      <td>3</td>\n",
       "      <td>168</td>\n",
       "      <td>765</td>\n",
       "      <td>29</td>\n",
       "    </tr>\n",
       "    <tr>\n",
       "      <th>services</th>\n",
       "      <td>132</td>\n",
       "      <td>226</td>\n",
       "      <td>388</td>\n",
       "      <td>2682</td>\n",
       "      <td>0</td>\n",
       "      <td>218</td>\n",
       "      <td>173</td>\n",
       "      <td>150</td>\n",
       "    </tr>\n",
       "    <tr>\n",
       "      <th>student</th>\n",
       "      <td>26</td>\n",
       "      <td>13</td>\n",
       "      <td>99</td>\n",
       "      <td>357</td>\n",
       "      <td>0</td>\n",
       "      <td>43</td>\n",
       "      <td>170</td>\n",
       "      <td>167</td>\n",
       "    </tr>\n",
       "    <tr>\n",
       "      <th>technician</th>\n",
       "      <td>58</td>\n",
       "      <td>87</td>\n",
       "      <td>384</td>\n",
       "      <td>873</td>\n",
       "      <td>0</td>\n",
       "      <td>3320</td>\n",
       "      <td>1809</td>\n",
       "      <td>212</td>\n",
       "    </tr>\n",
       "    <tr>\n",
       "      <th>unemployed</th>\n",
       "      <td>112</td>\n",
       "      <td>34</td>\n",
       "      <td>186</td>\n",
       "      <td>259</td>\n",
       "      <td>0</td>\n",
       "      <td>142</td>\n",
       "      <td>262</td>\n",
       "      <td>19</td>\n",
       "    </tr>\n",
       "    <tr>\n",
       "      <th>unknown</th>\n",
       "      <td>52</td>\n",
       "      <td>22</td>\n",
       "      <td>31</td>\n",
       "      <td>37</td>\n",
       "      <td>0</td>\n",
       "      <td>12</td>\n",
       "      <td>45</td>\n",
       "      <td>131</td>\n",
       "    </tr>\n",
       "  </tbody>\n",
       "</table>\n",
       "</div>"
      ],
      "text/plain": [
       "education      basic.4y  basic.6y  basic.9y  high.school  illiterate  \\\n",
       "job                                                                    \n",
       "admin.               77       151       499         3329           1   \n",
       "blue-collar        2318      1426      3623          878           8   \n",
       "entrepreneur        137        71       210          234           2   \n",
       "housemaid           474        77        94          174           1   \n",
       "management          100        85       166          298           0   \n",
       "retired             597        75       145          276           3   \n",
       "self-employed        93        25       220          118           3   \n",
       "services            132       226       388         2682           0   \n",
       "student              26        13        99          357           0   \n",
       "technician           58        87       384          873           0   \n",
       "unemployed          112        34       186          259           0   \n",
       "unknown              52        22        31           37           0   \n",
       "\n",
       "education      professional.course  university.degree  unknown  \n",
       "job                                                             \n",
       "admin.                         363               5753      249  \n",
       "blue-collar                    453                 94      454  \n",
       "entrepreneur                   135                610       57  \n",
       "housemaid                       59                139       42  \n",
       "management                      89               2063      123  \n",
       "retired                        241                285       98  \n",
       "self-employed                  168                765       29  \n",
       "services                       218                173      150  \n",
       "student                         43                170      167  \n",
       "technician                    3320               1809      212  \n",
       "unemployed                     142                262       19  \n",
       "unknown                         12                 45      131  "
      ]
     },
     "execution_count": 17,
     "metadata": {},
     "output_type": "execute_result"
    }
   ],
   "source": [
    "pd.crosstab(data.job, data.education)"
   ]
  },
  {
   "cell_type": "code",
   "execution_count": 18,
   "metadata": {},
   "outputs": [
    {
     "data": {
      "text/plain": [
       "admin.           10422\n",
       "blue-collar       9254\n",
       "technician        6743\n",
       "services          3969\n",
       "management        2924\n",
       "retired           1720\n",
       "entrepreneur      1456\n",
       "self-employed     1421\n",
       "unemployed        1344\n",
       "housemaid         1060\n",
       "student            875\n",
       "Name: job, dtype: int64"
      ]
     },
     "execution_count": 18,
     "metadata": {},
     "output_type": "execute_result"
    }
   ],
   "source": [
    "data.job.replace('unknown', \"unemployed\", inplace=True)\n",
    "data.job.value_counts()"
   ]
  },
  {
   "cell_type": "code",
   "execution_count": 19,
   "metadata": {},
   "outputs": [
    {
     "data": {
      "text/plain": [
       "0     10422\n",
       "1      9254\n",
       "2      6743\n",
       "3      3969\n",
       "4      2924\n",
       "5      1720\n",
       "6      1456\n",
       "7      1421\n",
       "8      1344\n",
       "9      1060\n",
       "10      875\n",
       "Name: job, dtype: int64"
      ]
     },
     "execution_count": 19,
     "metadata": {},
     "output_type": "execute_result"
    }
   ],
   "source": [
    "data.job.replace('admin.', 0, inplace=True)\n",
    "data.job.replace('blue-collar', 1, inplace=True)\n",
    "data.job.replace('technician', 2, inplace=True)\n",
    "data.job.replace('services', 3, inplace=True)\n",
    "data.job.replace('management', 4, inplace=True)\n",
    "data.job.replace('retired', 5, inplace=True)\n",
    "data.job.replace('entrepreneur', 6, inplace=True)\n",
    "data.job.replace('self-employed', 7, inplace=True)\n",
    "data.job.replace('unemployed', 8, inplace=True)\n",
    "data.job.replace('housemaid', 9, inplace=True)\n",
    "data.job.replace('student', 10, inplace=True)\n",
    "data.job.value_counts()"
   ]
  },
  {
   "cell_type": "code",
   "execution_count": 20,
   "metadata": {},
   "outputs": [
    {
     "data": {
      "text/html": [
       "<div>\n",
       "<style scoped>\n",
       "    .dataframe tbody tr th:only-of-type {\n",
       "        vertical-align: middle;\n",
       "    }\n",
       "\n",
       "    .dataframe tbody tr th {\n",
       "        vertical-align: top;\n",
       "    }\n",
       "\n",
       "    .dataframe thead th {\n",
       "        text-align: right;\n",
       "    }\n",
       "</style>\n",
       "<table border=\"1\" class=\"dataframe\">\n",
       "  <thead>\n",
       "    <tr style=\"text-align: right;\">\n",
       "      <th></th>\n",
       "      <th>age</th>\n",
       "      <th>job</th>\n",
       "      <th>marital</th>\n",
       "      <th>education</th>\n",
       "      <th>default</th>\n",
       "      <th>housing</th>\n",
       "      <th>loan</th>\n",
       "      <th>contact</th>\n",
       "      <th>month</th>\n",
       "      <th>day_of_week</th>\n",
       "      <th>...</th>\n",
       "      <th>campaign</th>\n",
       "      <th>pdays</th>\n",
       "      <th>previous</th>\n",
       "      <th>poutcome</th>\n",
       "      <th>emp.var.rate</th>\n",
       "      <th>cons.price.idx</th>\n",
       "      <th>cons.conf.idx</th>\n",
       "      <th>euribor3m</th>\n",
       "      <th>nr.employed</th>\n",
       "      <th>y</th>\n",
       "    </tr>\n",
       "  </thead>\n",
       "  <tbody>\n",
       "    <tr>\n",
       "      <th>0</th>\n",
       "      <td>56</td>\n",
       "      <td>9</td>\n",
       "      <td>married</td>\n",
       "      <td>basic.4y</td>\n",
       "      <td>no</td>\n",
       "      <td>no</td>\n",
       "      <td>no</td>\n",
       "      <td>telephone</td>\n",
       "      <td>may</td>\n",
       "      <td>mon</td>\n",
       "      <td>...</td>\n",
       "      <td>1</td>\n",
       "      <td>999</td>\n",
       "      <td>0</td>\n",
       "      <td>nonexistent</td>\n",
       "      <td>1.1</td>\n",
       "      <td>93.994</td>\n",
       "      <td>-36.4</td>\n",
       "      <td>4.857</td>\n",
       "      <td>5191.0</td>\n",
       "      <td>no</td>\n",
       "    </tr>\n",
       "    <tr>\n",
       "      <th>1</th>\n",
       "      <td>57</td>\n",
       "      <td>3</td>\n",
       "      <td>married</td>\n",
       "      <td>high.school</td>\n",
       "      <td>unknown</td>\n",
       "      <td>no</td>\n",
       "      <td>no</td>\n",
       "      <td>telephone</td>\n",
       "      <td>may</td>\n",
       "      <td>mon</td>\n",
       "      <td>...</td>\n",
       "      <td>1</td>\n",
       "      <td>999</td>\n",
       "      <td>0</td>\n",
       "      <td>nonexistent</td>\n",
       "      <td>1.1</td>\n",
       "      <td>93.994</td>\n",
       "      <td>-36.4</td>\n",
       "      <td>4.857</td>\n",
       "      <td>5191.0</td>\n",
       "      <td>no</td>\n",
       "    </tr>\n",
       "    <tr>\n",
       "      <th>2</th>\n",
       "      <td>37</td>\n",
       "      <td>3</td>\n",
       "      <td>married</td>\n",
       "      <td>high.school</td>\n",
       "      <td>no</td>\n",
       "      <td>yes</td>\n",
       "      <td>no</td>\n",
       "      <td>telephone</td>\n",
       "      <td>may</td>\n",
       "      <td>mon</td>\n",
       "      <td>...</td>\n",
       "      <td>1</td>\n",
       "      <td>999</td>\n",
       "      <td>0</td>\n",
       "      <td>nonexistent</td>\n",
       "      <td>1.1</td>\n",
       "      <td>93.994</td>\n",
       "      <td>-36.4</td>\n",
       "      <td>4.857</td>\n",
       "      <td>5191.0</td>\n",
       "      <td>no</td>\n",
       "    </tr>\n",
       "    <tr>\n",
       "      <th>3</th>\n",
       "      <td>40</td>\n",
       "      <td>0</td>\n",
       "      <td>married</td>\n",
       "      <td>basic.6y</td>\n",
       "      <td>no</td>\n",
       "      <td>no</td>\n",
       "      <td>no</td>\n",
       "      <td>telephone</td>\n",
       "      <td>may</td>\n",
       "      <td>mon</td>\n",
       "      <td>...</td>\n",
       "      <td>1</td>\n",
       "      <td>999</td>\n",
       "      <td>0</td>\n",
       "      <td>nonexistent</td>\n",
       "      <td>1.1</td>\n",
       "      <td>93.994</td>\n",
       "      <td>-36.4</td>\n",
       "      <td>4.857</td>\n",
       "      <td>5191.0</td>\n",
       "      <td>no</td>\n",
       "    </tr>\n",
       "    <tr>\n",
       "      <th>4</th>\n",
       "      <td>56</td>\n",
       "      <td>3</td>\n",
       "      <td>married</td>\n",
       "      <td>high.school</td>\n",
       "      <td>no</td>\n",
       "      <td>no</td>\n",
       "      <td>yes</td>\n",
       "      <td>telephone</td>\n",
       "      <td>may</td>\n",
       "      <td>mon</td>\n",
       "      <td>...</td>\n",
       "      <td>1</td>\n",
       "      <td>999</td>\n",
       "      <td>0</td>\n",
       "      <td>nonexistent</td>\n",
       "      <td>1.1</td>\n",
       "      <td>93.994</td>\n",
       "      <td>-36.4</td>\n",
       "      <td>4.857</td>\n",
       "      <td>5191.0</td>\n",
       "      <td>no</td>\n",
       "    </tr>\n",
       "  </tbody>\n",
       "</table>\n",
       "<p>5 rows × 21 columns</p>\n",
       "</div>"
      ],
      "text/plain": [
       "   age  job  marital    education  default housing loan    contact month  \\\n",
       "0   56    9  married     basic.4y       no      no   no  telephone   may   \n",
       "1   57    3  married  high.school  unknown      no   no  telephone   may   \n",
       "2   37    3  married  high.school       no     yes   no  telephone   may   \n",
       "3   40    0  married     basic.6y       no      no   no  telephone   may   \n",
       "4   56    3  married  high.school       no      no  yes  telephone   may   \n",
       "\n",
       "  day_of_week  ...  campaign  pdays  previous     poutcome emp.var.rate  \\\n",
       "0         mon  ...         1    999         0  nonexistent          1.1   \n",
       "1         mon  ...         1    999         0  nonexistent          1.1   \n",
       "2         mon  ...         1    999         0  nonexistent          1.1   \n",
       "3         mon  ...         1    999         0  nonexistent          1.1   \n",
       "4         mon  ...         1    999         0  nonexistent          1.1   \n",
       "\n",
       "   cons.price.idx  cons.conf.idx  euribor3m  nr.employed   y  \n",
       "0          93.994          -36.4      4.857       5191.0  no  \n",
       "1          93.994          -36.4      4.857       5191.0  no  \n",
       "2          93.994          -36.4      4.857       5191.0  no  \n",
       "3          93.994          -36.4      4.857       5191.0  no  \n",
       "4          93.994          -36.4      4.857       5191.0  no  \n",
       "\n",
       "[5 rows x 21 columns]"
      ]
     },
     "execution_count": 20,
     "metadata": {},
     "output_type": "execute_result"
    }
   ],
   "source": [
    "data.head()"
   ]
  },
  {
   "cell_type": "code",
   "execution_count": 21,
   "metadata": {},
   "outputs": [
    {
     "data": {
      "text/plain": [
       "married     24928\n",
       "single      11568\n",
       "divorced     4612\n",
       "unknown        80\n",
       "Name: marital, dtype: int64"
      ]
     },
     "execution_count": 21,
     "metadata": {},
     "output_type": "execute_result"
    }
   ],
   "source": [
    "data.marital.value_counts()"
   ]
  },
  {
   "cell_type": "code",
   "execution_count": 22,
   "metadata": {},
   "outputs": [
    {
     "data": {
      "text/plain": [
       "<matplotlib.axes._subplots.AxesSubplot at 0x1e663495148>"
      ]
     },
     "execution_count": 22,
     "metadata": {},
     "output_type": "execute_result"
    },
    {
     "data": {
      "image/png": "[encoded data removed]",
      "text/plain": [
       "<Figure size 432x288 with 1 Axes>"
      ]
     },
     "metadata": {
      "needs_background": "light"
     },
     "output_type": "display_data"
    }
   ],
   "source": [
    "sns.boxplot(x=\"age\", y=\"marital\", data=data)"
   ]
  },
  {
   "cell_type": "code",
   "execution_count": 23,
   "metadata": {},
   "outputs": [],
   "source": [
    "data.marital.replace(\"unknown\", \"married\", inplace=True)"
   ]
  },
  {
   "cell_type": "code",
   "execution_count": 24,
   "metadata": {},
   "outputs": [
    {
     "data": {
      "text/plain": [
       "0    25008\n",
       "1    11568\n",
       "2     4612\n",
       "Name: marital, dtype: int64"
      ]
     },
     "execution_count": 24,
     "metadata": {},
     "output_type": "execute_result"
    }
   ],
   "source": [
    "data.marital.replace('married', 0, inplace=True)\n",
    "data.marital.replace('single', 1, inplace=True)\n",
    "data.marital.replace('divorced', 2, inplace=True)\n",
    "data.marital.value_counts()"
   ]
  },
  {
   "cell_type": "code",
   "execution_count": 25,
   "metadata": {},
   "outputs": [
    {
     "data": {
      "text/plain": [
       "university.degree      12168\n",
       "high.school             9515\n",
       "basic.9y                6045\n",
       "professional.course     5243\n",
       "basic.4y                4176\n",
       "basic.6y                2292\n",
       "unknown                 1731\n",
       "illiterate                18\n",
       "Name: education, dtype: int64"
      ]
     },
     "execution_count": 25,
     "metadata": {},
     "output_type": "execute_result"
    }
   ],
   "source": [
    "data.education.value_counts()"
   ]
  },
  {
   "cell_type": "code",
   "execution_count": 26,
   "metadata": {},
   "outputs": [],
   "source": [
    "data.education.replace('unknown', 'illiterate', inplace=True)"
   ]
  },
  {
   "cell_type": "code",
   "execution_count": 27,
   "metadata": {},
   "outputs": [
    {
     "data": {
      "text/plain": [
       "university.degree      12168\n",
       "high.school             9515\n",
       "basic.9y                6045\n",
       "professional.course     5243\n",
       "basic.4y                4176\n",
       "basic.6y                2292\n",
       "illiterate              1749\n",
       "Name: education, dtype: int64"
      ]
     },
     "execution_count": 27,
     "metadata": {},
     "output_type": "execute_result"
    }
   ],
   "source": [
    "data.education.value_counts()"
   ]
  },
  {
   "cell_type": "code",
   "execution_count": 28,
   "metadata": {},
   "outputs": [
    {
     "data": {
      "text/plain": [
       "0    12168\n",
       "1     9515\n",
       "2     6045\n",
       "3     5243\n",
       "4     4176\n",
       "5     2292\n",
       "6     1749\n",
       "Name: education, dtype: int64"
      ]
     },
     "execution_count": 28,
     "metadata": {},
     "output_type": "execute_result"
    }
   ],
   "source": [
    "data.education.replace('university.degree', 0, inplace=True)\n",
    "data.education.replace('high.school', 1, inplace=True)\n",
    "data.education.replace('basic.9y', 2, inplace=True)\n",
    "data.education.replace('professional.course', 3, inplace=True)\n",
    "data.education.replace('basic.4y', 4, inplace=True)\n",
    "data.education.replace('basic.6y', 5, inplace=True)\n",
    "#data.education.replace('unknown', 6, inplace=True)\n",
    "data.education.replace('illiterate', 6, inplace=True)\n",
    "data.education.value_counts()"
   ]
  },
  {
   "cell_type": "code",
   "execution_count": 29,
   "metadata": {},
   "outputs": [
    {
     "data": {
      "text/plain": [
       "yes        21576\n",
       "no         18622\n",
       "unknown      990\n",
       "Name: housing, dtype: int64"
      ]
     },
     "execution_count": 29,
     "metadata": {},
     "output_type": "execute_result"
    }
   ],
   "source": [
    "data.housing.value_counts()"
   ]
  },
  {
   "cell_type": "code",
   "execution_count": 30,
   "metadata": {},
   "outputs": [],
   "source": [
    "data.housing.replace('unknown', 'no', inplace=True)"
   ]
  },
  {
   "cell_type": "code",
   "execution_count": 31,
   "metadata": {},
   "outputs": [
    {
     "data": {
      "text/plain": [
       "yes    21576\n",
       "no     19612\n",
       "Name: housing, dtype: int64"
      ]
     },
     "execution_count": 31,
     "metadata": {},
     "output_type": "execute_result"
    }
   ],
   "source": [
    "data.housing.value_counts()"
   ]
  },
  {
   "cell_type": "code",
   "execution_count": 32,
   "metadata": {},
   "outputs": [
    {
     "data": {
      "text/plain": [
       "0    21576\n",
       "1    19612\n",
       "Name: housing, dtype: int64"
      ]
     },
     "execution_count": 32,
     "metadata": {},
     "output_type": "execute_result"
    }
   ],
   "source": [
    "data.housing.replace('yes', 0, inplace=True)\n",
    "data.housing.replace('no', 1, inplace=True)\n",
    "data.housing.value_counts()"
   ]
  },
  {
   "cell_type": "code",
   "execution_count": 33,
   "metadata": {},
   "outputs": [
    {
     "data": {
      "text/plain": [
       "no         33950\n",
       "yes         6248\n",
       "unknown      990\n",
       "Name: loan, dtype: int64"
      ]
     },
     "execution_count": 33,
     "metadata": {},
     "output_type": "execute_result"
    }
   ],
   "source": [
    "data.loan.value_counts()"
   ]
  },
  {
   "cell_type": "code",
   "execution_count": 34,
   "metadata": {},
   "outputs": [
    {
     "data": {
      "text/plain": [
       "<matplotlib.axes._subplots.AxesSubplot at 0x1e66388e688>"
      ]
     },
     "execution_count": 34,
     "metadata": {},
     "output_type": "execute_result"
    },
    {
     "data": {
      "image/png": "[encoded data removed]",
      "text/plain": [
       "<Figure size 432x288 with 1 Axes>"
      ]
     },
     "metadata": {
      "needs_background": "light"
     },
     "output_type": "display_data"
    }
   ],
   "source": [
    "sns.boxplot(x=\"job\", y=\"loan\", data=data)"
   ]
  },
  {
   "cell_type": "code",
   "execution_count": 35,
   "metadata": {},
   "outputs": [],
   "source": [
    "data.loan.replace('unknown', 'no', inplace=True)"
   ]
  },
  {
   "cell_type": "code",
   "execution_count": 36,
   "metadata": {},
   "outputs": [
    {
     "data": {
      "text/plain": [
       "no     34940\n",
       "yes     6248\n",
       "Name: loan, dtype: int64"
      ]
     },
     "execution_count": 36,
     "metadata": {},
     "output_type": "execute_result"
    }
   ],
   "source": [
    "data.loan.value_counts()"
   ]
  },
  {
   "cell_type": "code",
   "execution_count": 37,
   "metadata": {},
   "outputs": [
    {
     "data": {
      "text/plain": [
       "0    34940\n",
       "1     6248\n",
       "Name: loan, dtype: int64"
      ]
     },
     "execution_count": 37,
     "metadata": {},
     "output_type": "execute_result"
    }
   ],
   "source": [
    "data.loan.replace('no', 0, inplace=True)\n",
    "data.loan.replace('yes', 1, inplace=True)\n",
    "data.loan.value_counts()"
   ]
  },
  {
   "cell_type": "code",
   "execution_count": 38,
   "metadata": {},
   "outputs": [
    {
     "data": {
      "text/plain": [
       "cellular     26144\n",
       "telephone    15044\n",
       "Name: contact, dtype: int64"
      ]
     },
     "execution_count": 38,
     "metadata": {},
     "output_type": "execute_result"
    }
   ],
   "source": [
    "data.contact.value_counts()"
   ]
  },
  {
   "cell_type": "code",
   "execution_count": 39,
   "metadata": {},
   "outputs": [
    {
     "data": {
      "text/plain": [
       "0    26144\n",
       "1    15044\n",
       "Name: contact, dtype: int64"
      ]
     },
     "execution_count": 39,
     "metadata": {},
     "output_type": "execute_result"
    }
   ],
   "source": [
    "data.contact.replace('cellular', 0, inplace=True)\n",
    "data.contact.replace('telephone', 1, inplace=True)\n",
    "data.contact.value_counts()"
   ]
  },
  {
   "cell_type": "code",
   "execution_count": 40,
   "metadata": {},
   "outputs": [
    {
     "data": {
      "text/plain": [
       "may    13769\n",
       "jul     7174\n",
       "aug     6178\n",
       "jun     5318\n",
       "nov     4101\n",
       "apr     2632\n",
       "oct      718\n",
       "sep      570\n",
       "mar      546\n",
       "dec      182\n",
       "Name: month, dtype: int64"
      ]
     },
     "execution_count": 40,
     "metadata": {},
     "output_type": "execute_result"
    }
   ],
   "source": [
    "data.month.value_counts()"
   ]
  },
  {
   "cell_type": "code",
   "execution_count": 41,
   "metadata": {},
   "outputs": [
    {
     "data": {
      "text/plain": [
       "4     13769\n",
       "6      7174\n",
       "7      6178\n",
       "5      5318\n",
       "10     4101\n",
       "3      2632\n",
       "9       718\n",
       "8       570\n",
       "2       546\n",
       "11      182\n",
       "Name: month, dtype: int64"
      ]
     },
     "execution_count": 41,
     "metadata": {},
     "output_type": "execute_result"
    }
   ],
   "source": [
    "data.month.replace('jan', 0, inplace=True)\n",
    "data.month.replace('feb', 1, inplace=True)\n",
    "data.month.replace('mar', 2, inplace=True)\n",
    "data.month.replace('apr', 3, inplace=True)\n",
    "data.month.replace('may', 4, inplace=True)\n",
    "data.month.replace('jun', 5, inplace=True)\n",
    "data.month.replace('jul', 6, inplace=True)\n",
    "data.month.replace('aug', 7, inplace=True)\n",
    "data.month.replace('sep', 8, inplace=True)\n",
    "data.month.replace('oct', 9, inplace=True)\n",
    "data.month.replace('nov', 10, inplace=True)\n",
    "data.month.replace('dec', 11, inplace=True)\n",
    "data.month.value_counts()"
   ]
  },
  {
   "cell_type": "code",
   "execution_count": 42,
   "metadata": {},
   "outputs": [
    {
     "data": {
      "text/plain": [
       "thu    8623\n",
       "mon    8514\n",
       "wed    8134\n",
       "tue    8090\n",
       "fri    7827\n",
       "Name: day_of_week, dtype: int64"
      ]
     },
     "execution_count": 42,
     "metadata": {},
     "output_type": "execute_result"
    }
   ],
   "source": [
    "data.day_of_week.value_counts()"
   ]
  },
  {
   "cell_type": "code",
   "execution_count": 43,
   "metadata": {},
   "outputs": [
    {
     "data": {
      "text/plain": [
       "3    8623\n",
       "0    8514\n",
       "2    8134\n",
       "1    8090\n",
       "4    7827\n",
       "Name: day_of_week, dtype: int64"
      ]
     },
     "execution_count": 43,
     "metadata": {},
     "output_type": "execute_result"
    }
   ],
   "source": [
    "data.day_of_week.replace('mon', 0, inplace=True)\n",
    "data.day_of_week.replace('tue', 1, inplace=True)\n",
    "data.day_of_week.replace('wed', 2, inplace=True)\n",
    "data.day_of_week.replace('thu', 3, inplace=True)\n",
    "data.day_of_week.replace('fri', 4, inplace=True)\n",
    "data.day_of_week.value_counts()"
   ]
  },
  {
   "cell_type": "code",
   "execution_count": 44,
   "metadata": {},
   "outputs": [
    {
     "data": {
      "text/plain": [
       "0    35563\n",
       "1     4252\n",
       "2     1373\n",
       "Name: poutcome, dtype: int64"
      ]
     },
     "execution_count": 44,
     "metadata": {},
     "output_type": "execute_result"
    }
   ],
   "source": [
    "data.poutcome.replace('nonexistent', 0, inplace=True)\n",
    "data.poutcome.replace('failure', 1, inplace=True)\n",
    "data.poutcome.replace('success', 2, inplace=True)\n",
    "data.poutcome.value_counts()"
   ]
  },
  {
   "cell_type": "code",
   "execution_count": 45,
   "metadata": {},
   "outputs": [
    {
     "data": {
      "text/plain": [
       "no     36548\n",
       "yes     4640\n",
       "Name: y, dtype: int64"
      ]
     },
     "execution_count": 45,
     "metadata": {},
     "output_type": "execute_result"
    }
   ],
   "source": [
    "data.y.value_counts()"
   ]
  },
  {
   "cell_type": "code",
   "execution_count": 46,
   "metadata": {},
   "outputs": [
    {
     "data": {
      "text/plain": [
       "0    36548\n",
       "1     4640\n",
       "Name: y, dtype: int64"
      ]
     },
     "execution_count": 46,
     "metadata": {},
     "output_type": "execute_result"
    }
   ],
   "source": [
    "data.y.replace('no', 0, inplace=True)\n",
    "data.y.replace('yes', 1, inplace=True)\n",
    "data.y.value_counts()"
   ]
  },
  {
   "cell_type": "code",
   "execution_count": 47,
   "metadata": {},
   "outputs": [
    {
     "name": "stdout",
     "output_type": "stream",
     "text": [
      "<class 'pandas.core.frame.DataFrame'>\n",
      "RangeIndex: 41188 entries, 0 to 41187\n",
      "Data columns (total 21 columns):\n",
      " #   Column          Non-Null Count  Dtype  \n",
      "---  ------          --------------  -----  \n",
      " 0   age             41188 non-null  int64  \n",
      " 1   job             41188 non-null  int64  \n",
      " 2   marital         41188 non-null  int64  \n",
      " 3   education       41188 non-null  int64  \n",
      " 4   default         41188 non-null  object \n",
      " 5   housing         41188 non-null  int64  \n",
      " 6   loan            41188 non-null  int64  \n",
      " 7   contact         41188 non-null  int64  \n",
      " 8   month           41188 non-null  int64  \n",
      " 9   day_of_week     41188 non-null  int64  \n",
      " 10  duration        41188 non-null  int64  \n",
      " 11  campaign        41188 non-null  int64  \n",
      " 12  pdays           41188 non-null  int64  \n",
      " 13  previous        41188 non-null  int64  \n",
      " 14  poutcome        41188 non-null  int64  \n",
      " 15  emp.var.rate    41188 non-null  float64\n",
      " 16  cons.price.idx  41188 non-null  float64\n",
      " 17  cons.conf.idx   41188 non-null  float64\n",
      " 18  euribor3m       41188 non-null  float64\n",
      " 19  nr.employed     41188 non-null  float64\n",
      " 20  y               41188 non-null  int64  \n",
      "dtypes: float64(5), int64(15), object(1)\n",
      "memory usage: 6.6+ MB\n"
     ]
    }
   ],
   "source": [
    "data.info()"
   ]
  },
  {
   "cell_type": "code",
   "execution_count": 48,
   "metadata": {},
   "outputs": [
    {
     "data": {
      "text/plain": [
       "no         32588\n",
       "unknown     8597\n",
       "yes            3\n",
       "Name: default, dtype: int64"
      ]
     },
     "execution_count": 48,
     "metadata": {},
     "output_type": "execute_result"
    }
   ],
   "source": [
    "data.default.value_counts()"
   ]
  },
  {
   "cell_type": "code",
   "execution_count": 49,
   "metadata": {},
   "outputs": [
    {
     "data": {
      "text/plain": [
       "<matplotlib.axes._subplots.AxesSubplot at 0x1e663b72988>"
      ]
     },
     "execution_count": 49,
     "metadata": {},
     "output_type": "execute_result"
    },
    {
     "data": {
      "image/png": "[encoded data removed]",
      "text/plain": [
       "<Figure size 432x288 with 1 Axes>"
      ]
     },
     "metadata": {
      "needs_background": "light"
     },
     "output_type": "display_data"
    }
   ],
   "source": [
    "sns.boxplot(x=\"job\", y=\"default\", data=data)"
   ]
  },
  {
   "cell_type": "code",
   "execution_count": 50,
   "metadata": {},
   "outputs": [],
   "source": [
    "data.default.replace('unknown', 'yes', inplace=True)"
   ]
  },
  {
   "cell_type": "code",
   "execution_count": 51,
   "metadata": {},
   "outputs": [
    {
     "data": {
      "text/plain": [
       "no     32588\n",
       "yes     8600\n",
       "Name: default, dtype: int64"
      ]
     },
     "execution_count": 51,
     "metadata": {},
     "output_type": "execute_result"
    }
   ],
   "source": [
    "data.default.value_counts()"
   ]
  },
  {
   "cell_type": "code",
   "execution_count": 52,
   "metadata": {},
   "outputs": [
    {
     "data": {
      "text/plain": [
       "0    32588\n",
       "1     8600\n",
       "Name: default, dtype: int64"
      ]
     },
     "execution_count": 52,
     "metadata": {},
     "output_type": "execute_result"
    }
   ],
   "source": [
    "data.default.replace('no', 0, inplace=True)\n",
    "data.default.replace('yes', 1, inplace=True)\n",
    "data.default.value_counts()"
   ]
  },
  {
   "cell_type": "code",
   "execution_count": 53,
   "metadata": {},
   "outputs": [
    {
     "data": {
      "text/plain": [
       "0    12168\n",
       "1     9515\n",
       "2     6045\n",
       "3     5243\n",
       "4     4176\n",
       "5     2292\n",
       "6     1749\n",
       "Name: education, dtype: int64"
      ]
     },
     "execution_count": 53,
     "metadata": {},
     "output_type": "execute_result"
    }
   ],
   "source": [
    "data.education.value_counts()"
   ]
  },
  {
   "cell_type": "code",
   "execution_count": 54,
   "metadata": {},
   "outputs": [
    {
     "name": "stdout",
     "output_type": "stream",
     "text": [
      "<class 'pandas.core.frame.DataFrame'>\n",
      "RangeIndex: 41188 entries, 0 to 41187\n",
      "Data columns (total 21 columns):\n",
      " #   Column          Non-Null Count  Dtype  \n",
      "---  ------          --------------  -----  \n",
      " 0   age             41188 non-null  int64  \n",
      " 1   job             41188 non-null  int64  \n",
      " 2   marital         41188 non-null  int64  \n",
      " 3   education       41188 non-null  int64  \n",
      " 4   default         41188 non-null  int64  \n",
      " 5   housing         41188 non-null  int64  \n",
      " 6   loan            41188 non-null  int64  \n",
      " 7   contact         41188 non-null  int64  \n",
      " 8   month           41188 non-null  int64  \n",
      " 9   day_of_week     41188 non-null  int64  \n",
      " 10  duration        41188 non-null  int64  \n",
      " 11  campaign        41188 non-null  int64  \n",
      " 12  pdays           41188 non-null  int64  \n",
      " 13  previous        41188 non-null  int64  \n",
      " 14  poutcome        41188 non-null  int64  \n",
      " 15  emp.var.rate    41188 non-null  float64\n",
      " 16  cons.price.idx  41188 non-null  float64\n",
      " 17  cons.conf.idx   41188 non-null  float64\n",
      " 18  euribor3m       41188 non-null  float64\n",
      " 19  nr.employed     41188 non-null  float64\n",
      " 20  y               41188 non-null  int64  \n",
      "dtypes: float64(5), int64(16)\n",
      "memory usage: 6.6 MB\n"
     ]
    }
   ],
   "source": [
    "data.info()"
   ]
  },
  {
   "cell_type": "code",
   "execution_count": 55,
   "metadata": {},
   "outputs": [
    {
     "data": {
      "text/html": [
       "<div>\n",
       "<style scoped>\n",
       "    .dataframe tbody tr th:only-of-type {\n",
       "        vertical-align: middle;\n",
       "    }\n",
       "\n",
       "    .dataframe tbody tr th {\n",
       "        vertical-align: top;\n",
       "    }\n",
       "\n",
       "    .dataframe thead th {\n",
       "        text-align: right;\n",
       "    }\n",
       "</style>\n",
       "<table border=\"1\" class=\"dataframe\">\n",
       "  <thead>\n",
       "    <tr style=\"text-align: right;\">\n",
       "      <th></th>\n",
       "      <th>age</th>\n",
       "      <th>job</th>\n",
       "      <th>marital</th>\n",
       "      <th>education</th>\n",
       "      <th>default</th>\n",
       "      <th>housing</th>\n",
       "      <th>loan</th>\n",
       "      <th>contact</th>\n",
       "      <th>month</th>\n",
       "      <th>day_of_week</th>\n",
       "      <th>...</th>\n",
       "      <th>campaign</th>\n",
       "      <th>pdays</th>\n",
       "      <th>previous</th>\n",
       "      <th>poutcome</th>\n",
       "      <th>emp.var.rate</th>\n",
       "      <th>cons.price.idx</th>\n",
       "      <th>cons.conf.idx</th>\n",
       "      <th>euribor3m</th>\n",
       "      <th>nr.employed</th>\n",
       "      <th>y</th>\n",
       "    </tr>\n",
       "  </thead>\n",
       "  <tbody>\n",
       "    <tr>\n",
       "      <th>age</th>\n",
       "      <td>1.000000</td>\n",
       "      <td>0.099659</td>\n",
       "      <td>-0.124736</td>\n",
       "      <td>0.179476</td>\n",
       "      <td>0.173681</td>\n",
       "      <td>0.002291</td>\n",
       "      <td>-0.007735</td>\n",
       "      <td>0.013926</td>\n",
       "      <td>0.076198</td>\n",
       "      <td>-0.018949</td>\n",
       "      <td>...</td>\n",
       "      <td>0.007460</td>\n",
       "      <td>-0.024081</td>\n",
       "      <td>0.012806</td>\n",
       "      <td>0.015415</td>\n",
       "      <td>0.017141</td>\n",
       "      <td>0.009351</td>\n",
       "      <td>0.125220</td>\n",
       "      <td>0.029099</td>\n",
       "      <td>0.003432</td>\n",
       "      <td>0.017666</td>\n",
       "    </tr>\n",
       "    <tr>\n",
       "      <th>job</th>\n",
       "      <td>0.099659</td>\n",
       "      <td>1.000000</td>\n",
       "      <td>-0.008207</td>\n",
       "      <td>0.083958</td>\n",
       "      <td>0.023549</td>\n",
       "      <td>0.000254</td>\n",
       "      <td>-0.010667</td>\n",
       "      <td>-0.000892</td>\n",
       "      <td>0.044855</td>\n",
       "      <td>-0.010270</td>\n",
       "      <td>...</td>\n",
       "      <td>-0.013607</td>\n",
       "      <td>-0.057781</td>\n",
       "      <td>0.052801</td>\n",
       "      <td>0.051024</td>\n",
       "      <td>-0.071925</td>\n",
       "      <td>-0.022104</td>\n",
       "      <td>0.042211</td>\n",
       "      <td>-0.064421</td>\n",
       "      <td>-0.086201</td>\n",
       "      <td>0.055890</td>\n",
       "    </tr>\n",
       "    <tr>\n",
       "      <th>marital</th>\n",
       "      <td>-0.124736</td>\n",
       "      <td>-0.008207</td>\n",
       "      <td>1.000000</td>\n",
       "      <td>-0.106738</td>\n",
       "      <td>-0.103632</td>\n",
       "      <td>-0.006869</td>\n",
       "      <td>-0.001577</td>\n",
       "      <td>-0.043604</td>\n",
       "      <td>-0.002495</td>\n",
       "      <td>-0.004309</td>\n",
       "      <td>...</td>\n",
       "      <td>0.000403</td>\n",
       "      <td>-0.016699</td>\n",
       "      <td>0.028844</td>\n",
       "      <td>0.028815</td>\n",
       "      <td>-0.047892</td>\n",
       "      <td>-0.023771</td>\n",
       "      <td>-0.051051</td>\n",
       "      <td>-0.053781</td>\n",
       "      <td>-0.049536</td>\n",
       "      <td>0.025622</td>\n",
       "    </tr>\n",
       "    <tr>\n",
       "      <th>education</th>\n",
       "      <td>0.179476</td>\n",
       "      <td>0.083958</td>\n",
       "      <td>-0.106738</td>\n",
       "      <td>1.000000</td>\n",
       "      <td>0.196717</td>\n",
       "      <td>0.014458</td>\n",
       "      <td>-0.012435</td>\n",
       "      <td>0.089978</td>\n",
       "      <td>-0.088788</td>\n",
       "      <td>0.006198</td>\n",
       "      <td>...</td>\n",
       "      <td>0.002795</td>\n",
       "      <td>0.018098</td>\n",
       "      <td>-0.022279</td>\n",
       "      <td>-0.025146</td>\n",
       "      <td>0.049076</td>\n",
       "      <td>0.086692</td>\n",
       "      <td>-0.013127</td>\n",
       "      <td>0.040492</td>\n",
       "      <td>0.029692</td>\n",
       "      <td>-0.026894</td>\n",
       "    </tr>\n",
       "    <tr>\n",
       "      <th>default</th>\n",
       "      <td>0.173681</td>\n",
       "      <td>0.023549</td>\n",
       "      <td>-0.103632</td>\n",
       "      <td>0.196717</td>\n",
       "      <td>1.000000</td>\n",
       "      <td>0.016749</td>\n",
       "      <td>-0.005424</td>\n",
       "      <td>0.135451</td>\n",
       "      <td>-0.084580</td>\n",
       "      <td>-0.004164</td>\n",
       "      <td>...</td>\n",
       "      <td>0.032923</td>\n",
       "      <td>0.080072</td>\n",
       "      <td>-0.102533</td>\n",
       "      <td>-0.108285</td>\n",
       "      <td>0.203285</td>\n",
       "      <td>0.168234</td>\n",
       "      <td>0.026443</td>\n",
       "      <td>0.195337</td>\n",
       "      <td>0.189829</td>\n",
       "      <td>-0.099344</td>\n",
       "    </tr>\n",
       "    <tr>\n",
       "      <th>housing</th>\n",
       "      <td>0.002291</td>\n",
       "      <td>0.000254</td>\n",
       "      <td>-0.006869</td>\n",
       "      <td>0.014458</td>\n",
       "      <td>0.016749</td>\n",
       "      <td>1.000000</td>\n",
       "      <td>-0.056651</td>\n",
       "      <td>0.084472</td>\n",
       "      <td>-0.033252</td>\n",
       "      <td>0.009280</td>\n",
       "      <td>...</td>\n",
       "      <td>0.010800</td>\n",
       "      <td>0.010719</td>\n",
       "      <td>-0.020446</td>\n",
       "      <td>-0.023483</td>\n",
       "      <td>0.059862</td>\n",
       "      <td>0.081920</td>\n",
       "      <td>0.034496</td>\n",
       "      <td>0.058913</td>\n",
       "      <td>0.045046</td>\n",
       "      <td>-0.011743</td>\n",
       "    </tr>\n",
       "    <tr>\n",
       "      <th>loan</th>\n",
       "      <td>-0.007735</td>\n",
       "      <td>-0.010667</td>\n",
       "      <td>-0.001577</td>\n",
       "      <td>-0.012435</td>\n",
       "      <td>-0.005424</td>\n",
       "      <td>-0.056651</td>\n",
       "      <td>1.000000</td>\n",
       "      <td>-0.013367</td>\n",
       "      <td>-0.001696</td>\n",
       "      <td>0.001850</td>\n",
       "      <td>...</td>\n",
       "      <td>0.005294</td>\n",
       "      <td>-0.000086</td>\n",
       "      <td>-0.002143</td>\n",
       "      <td>-0.000380</td>\n",
       "      <td>0.001193</td>\n",
       "      <td>-0.005944</td>\n",
       "      <td>-0.013673</td>\n",
       "      <td>-0.000487</td>\n",
       "      <td>0.004205</td>\n",
       "      <td>-0.004466</td>\n",
       "    </tr>\n",
       "    <tr>\n",
       "      <th>contact</th>\n",
       "      <td>0.013926</td>\n",
       "      <td>-0.000892</td>\n",
       "      <td>-0.043604</td>\n",
       "      <td>0.089978</td>\n",
       "      <td>0.135451</td>\n",
       "      <td>0.084472</td>\n",
       "      <td>-0.013367</td>\n",
       "      <td>1.000000</td>\n",
       "      <td>-0.324315</td>\n",
       "      <td>0.019583</td>\n",
       "      <td>...</td>\n",
       "      <td>0.077368</td>\n",
       "      <td>0.117970</td>\n",
       "      <td>-0.212848</td>\n",
       "      <td>-0.226813</td>\n",
       "      <td>0.393584</td>\n",
       "      <td>0.591474</td>\n",
       "      <td>0.251614</td>\n",
       "      <td>0.399773</td>\n",
       "      <td>0.269155</td>\n",
       "      <td>-0.144773</td>\n",
       "    </tr>\n",
       "    <tr>\n",
       "      <th>month</th>\n",
       "      <td>0.076198</td>\n",
       "      <td>0.044855</td>\n",
       "      <td>-0.002495</td>\n",
       "      <td>-0.088788</td>\n",
       "      <td>-0.084580</td>\n",
       "      <td>-0.033252</td>\n",
       "      <td>-0.001696</td>\n",
       "      <td>-0.324315</td>\n",
       "      <td>1.000000</td>\n",
       "      <td>-0.006959</td>\n",
       "      <td>...</td>\n",
       "      <td>-0.030635</td>\n",
       "      <td>-0.079556</td>\n",
       "      <td>0.063754</td>\n",
       "      <td>0.060841</td>\n",
       "      <td>0.058874</td>\n",
       "      <td>-0.150350</td>\n",
       "      <td>0.264227</td>\n",
       "      <td>0.163411</td>\n",
       "      <td>0.132697</td>\n",
       "      <td>0.037187</td>\n",
       "    </tr>\n",
       "    <tr>\n",
       "      <th>day_of_week</th>\n",
       "      <td>-0.018949</td>\n",
       "      <td>-0.010270</td>\n",
       "      <td>-0.004309</td>\n",
       "      <td>0.006198</td>\n",
       "      <td>-0.004164</td>\n",
       "      <td>0.009280</td>\n",
       "      <td>0.001850</td>\n",
       "      <td>0.019583</td>\n",
       "      <td>-0.006959</td>\n",
       "      <td>1.000000</td>\n",
       "      <td>...</td>\n",
       "      <td>0.015098</td>\n",
       "      <td>0.006765</td>\n",
       "      <td>0.004013</td>\n",
       "      <td>0.003279</td>\n",
       "      <td>-0.004401</td>\n",
       "      <td>-0.004586</td>\n",
       "      <td>-0.000099</td>\n",
       "      <td>-0.005552</td>\n",
       "      <td>-0.000734</td>\n",
       "      <td>0.010051</td>\n",
       "    </tr>\n",
       "    <tr>\n",
       "      <th>duration</th>\n",
       "      <td>-0.001700</td>\n",
       "      <td>0.007004</td>\n",
       "      <td>-0.000542</td>\n",
       "      <td>0.010358</td>\n",
       "      <td>-0.011694</td>\n",
       "      <td>0.006804</td>\n",
       "      <td>0.000121</td>\n",
       "      <td>-0.026657</td>\n",
       "      <td>-0.019302</td>\n",
       "      <td>0.010549</td>\n",
       "      <td>...</td>\n",
       "      <td>-0.071699</td>\n",
       "      <td>-0.047577</td>\n",
       "      <td>0.020640</td>\n",
       "      <td>0.026465</td>\n",
       "      <td>-0.027968</td>\n",
       "      <td>0.005312</td>\n",
       "      <td>-0.008173</td>\n",
       "      <td>-0.032897</td>\n",
       "      <td>-0.044703</td>\n",
       "      <td>0.405274</td>\n",
       "    </tr>\n",
       "    <tr>\n",
       "      <th>campaign</th>\n",
       "      <td>0.007460</td>\n",
       "      <td>-0.013607</td>\n",
       "      <td>0.000403</td>\n",
       "      <td>0.002795</td>\n",
       "      <td>0.032923</td>\n",
       "      <td>0.010800</td>\n",
       "      <td>0.005294</td>\n",
       "      <td>0.077368</td>\n",
       "      <td>-0.030635</td>\n",
       "      <td>0.015098</td>\n",
       "      <td>...</td>\n",
       "      <td>1.000000</td>\n",
       "      <td>0.052584</td>\n",
       "      <td>-0.079141</td>\n",
       "      <td>-0.086083</td>\n",
       "      <td>0.150754</td>\n",
       "      <td>0.127836</td>\n",
       "      <td>-0.013733</td>\n",
       "      <td>0.135133</td>\n",
       "      <td>0.144095</td>\n",
       "      <td>-0.066357</td>\n",
       "    </tr>\n",
       "    <tr>\n",
       "      <th>pdays</th>\n",
       "      <td>-0.024081</td>\n",
       "      <td>-0.057781</td>\n",
       "      <td>-0.016699</td>\n",
       "      <td>0.018098</td>\n",
       "      <td>0.080072</td>\n",
       "      <td>0.010719</td>\n",
       "      <td>-0.000086</td>\n",
       "      <td>0.117970</td>\n",
       "      <td>-0.079556</td>\n",
       "      <td>0.006765</td>\n",
       "      <td>...</td>\n",
       "      <td>0.052584</td>\n",
       "      <td>1.000000</td>\n",
       "      <td>-0.587514</td>\n",
       "      <td>-0.744679</td>\n",
       "      <td>0.271004</td>\n",
       "      <td>0.078889</td>\n",
       "      <td>-0.091342</td>\n",
       "      <td>0.296899</td>\n",
       "      <td>0.372605</td>\n",
       "      <td>-0.324914</td>\n",
       "    </tr>\n",
       "    <tr>\n",
       "      <th>previous</th>\n",
       "      <td>0.012806</td>\n",
       "      <td>0.052801</td>\n",
       "      <td>0.028844</td>\n",
       "      <td>-0.022279</td>\n",
       "      <td>-0.102533</td>\n",
       "      <td>-0.020446</td>\n",
       "      <td>-0.002143</td>\n",
       "      <td>-0.212848</td>\n",
       "      <td>0.063754</td>\n",
       "      <td>0.004013</td>\n",
       "      <td>...</td>\n",
       "      <td>-0.079141</td>\n",
       "      <td>-0.587514</td>\n",
       "      <td>1.000000</td>\n",
       "      <td>0.868540</td>\n",
       "      <td>-0.420489</td>\n",
       "      <td>-0.203130</td>\n",
       "      <td>-0.050936</td>\n",
       "      <td>-0.454494</td>\n",
       "      <td>-0.501333</td>\n",
       "      <td>0.230181</td>\n",
       "    </tr>\n",
       "    <tr>\n",
       "      <th>poutcome</th>\n",
       "      <td>0.015415</td>\n",
       "      <td>0.051024</td>\n",
       "      <td>0.028815</td>\n",
       "      <td>-0.025146</td>\n",
       "      <td>-0.108285</td>\n",
       "      <td>-0.023483</td>\n",
       "      <td>-0.000380</td>\n",
       "      <td>-0.226813</td>\n",
       "      <td>0.060841</td>\n",
       "      <td>0.003279</td>\n",
       "      <td>...</td>\n",
       "      <td>-0.086083</td>\n",
       "      <td>-0.744679</td>\n",
       "      <td>0.868540</td>\n",
       "      <td>1.000000</td>\n",
       "      <td>-0.457197</td>\n",
       "      <td>-0.259746</td>\n",
       "      <td>-0.041728</td>\n",
       "      <td>-0.478687</td>\n",
       "      <td>-0.509597</td>\n",
       "      <td>0.270373</td>\n",
       "    </tr>\n",
       "    <tr>\n",
       "      <th>emp.var.rate</th>\n",
       "      <td>0.017141</td>\n",
       "      <td>-0.071925</td>\n",
       "      <td>-0.047892</td>\n",
       "      <td>0.049076</td>\n",
       "      <td>0.203285</td>\n",
       "      <td>0.059862</td>\n",
       "      <td>0.001193</td>\n",
       "      <td>0.393584</td>\n",
       "      <td>0.058874</td>\n",
       "      <td>-0.004401</td>\n",
       "      <td>...</td>\n",
       "      <td>0.150754</td>\n",
       "      <td>0.271004</td>\n",
       "      <td>-0.420489</td>\n",
       "      <td>-0.457197</td>\n",
       "      <td>1.000000</td>\n",
       "      <td>0.775334</td>\n",
       "      <td>0.196041</td>\n",
       "      <td>0.972245</td>\n",
       "      <td>0.906970</td>\n",
       "      <td>-0.298334</td>\n",
       "    </tr>\n",
       "    <tr>\n",
       "      <th>cons.price.idx</th>\n",
       "      <td>0.009351</td>\n",
       "      <td>-0.022104</td>\n",
       "      <td>-0.023771</td>\n",
       "      <td>0.086692</td>\n",
       "      <td>0.168234</td>\n",
       "      <td>0.081920</td>\n",
       "      <td>-0.005944</td>\n",
       "      <td>0.591474</td>\n",
       "      <td>-0.150350</td>\n",
       "      <td>-0.004586</td>\n",
       "      <td>...</td>\n",
       "      <td>0.127836</td>\n",
       "      <td>0.078889</td>\n",
       "      <td>-0.203130</td>\n",
       "      <td>-0.259746</td>\n",
       "      <td>0.775334</td>\n",
       "      <td>1.000000</td>\n",
       "      <td>0.058986</td>\n",
       "      <td>0.688230</td>\n",
       "      <td>0.522034</td>\n",
       "      <td>-0.136211</td>\n",
       "    </tr>\n",
       "    <tr>\n",
       "      <th>cons.conf.idx</th>\n",
       "      <td>0.125220</td>\n",
       "      <td>0.042211</td>\n",
       "      <td>-0.051051</td>\n",
       "      <td>-0.013127</td>\n",
       "      <td>0.026443</td>\n",
       "      <td>0.034496</td>\n",
       "      <td>-0.013673</td>\n",
       "      <td>0.251614</td>\n",
       "      <td>0.264227</td>\n",
       "      <td>-0.000099</td>\n",
       "      <td>...</td>\n",
       "      <td>-0.013733</td>\n",
       "      <td>-0.091342</td>\n",
       "      <td>-0.050936</td>\n",
       "      <td>-0.041728</td>\n",
       "      <td>0.196041</td>\n",
       "      <td>0.058986</td>\n",
       "      <td>1.000000</td>\n",
       "      <td>0.277686</td>\n",
       "      <td>0.100513</td>\n",
       "      <td>0.054878</td>\n",
       "    </tr>\n",
       "    <tr>\n",
       "      <th>euribor3m</th>\n",
       "      <td>0.029099</td>\n",
       "      <td>-0.064421</td>\n",
       "      <td>-0.053781</td>\n",
       "      <td>0.040492</td>\n",
       "      <td>0.195337</td>\n",
       "      <td>0.058913</td>\n",
       "      <td>-0.000487</td>\n",
       "      <td>0.399773</td>\n",
       "      <td>0.163411</td>\n",
       "      <td>-0.005552</td>\n",
       "      <td>...</td>\n",
       "      <td>0.135133</td>\n",
       "      <td>0.296899</td>\n",
       "      <td>-0.454494</td>\n",
       "      <td>-0.478687</td>\n",
       "      <td>0.972245</td>\n",
       "      <td>0.688230</td>\n",
       "      <td>0.277686</td>\n",
       "      <td>1.000000</td>\n",
       "      <td>0.945154</td>\n",
       "      <td>-0.307771</td>\n",
       "    </tr>\n",
       "    <tr>\n",
       "      <th>nr.employed</th>\n",
       "      <td>0.003432</td>\n",
       "      <td>-0.086201</td>\n",
       "      <td>-0.049536</td>\n",
       "      <td>0.029692</td>\n",
       "      <td>0.189829</td>\n",
       "      <td>0.045046</td>\n",
       "      <td>0.004205</td>\n",
       "      <td>0.269155</td>\n",
       "      <td>0.132697</td>\n",
       "      <td>-0.000734</td>\n",
       "      <td>...</td>\n",
       "      <td>0.144095</td>\n",
       "      <td>0.372605</td>\n",
       "      <td>-0.501333</td>\n",
       "      <td>-0.509597</td>\n",
       "      <td>0.906970</td>\n",
       "      <td>0.522034</td>\n",
       "      <td>0.100513</td>\n",
       "      <td>0.945154</td>\n",
       "      <td>1.000000</td>\n",
       "      <td>-0.354678</td>\n",
       "    </tr>\n",
       "    <tr>\n",
       "      <th>y</th>\n",
       "      <td>0.017666</td>\n",
       "      <td>0.055890</td>\n",
       "      <td>0.025622</td>\n",
       "      <td>-0.026894</td>\n",
       "      <td>-0.099344</td>\n",
       "      <td>-0.011743</td>\n",
       "      <td>-0.004466</td>\n",
       "      <td>-0.144773</td>\n",
       "      <td>0.037187</td>\n",
       "      <td>0.010051</td>\n",
       "      <td>...</td>\n",
       "      <td>-0.066357</td>\n",
       "      <td>-0.324914</td>\n",
       "      <td>0.230181</td>\n",
       "      <td>0.270373</td>\n",
       "      <td>-0.298334</td>\n",
       "      <td>-0.136211</td>\n",
       "      <td>0.054878</td>\n",
       "      <td>-0.307771</td>\n",
       "      <td>-0.354678</td>\n",
       "      <td>1.000000</td>\n",
       "    </tr>\n",
       "  </tbody>\n",
       "</table>\n",
       "<p>21 rows × 21 columns</p>\n",
       "</div>"
      ],
      "text/plain": [
       "                     age       job   marital  education   default   housing  \\\n",
       "age             1.000000  0.099659 -0.124736   0.179476  0.173681  0.002291   \n",
       "job             0.099659  1.000000 -0.008207   0.083958  0.023549  0.000254   \n",
       "marital        -0.124736 -0.008207  1.000000  -0.106738 -0.103632 -0.006869   \n",
       "education       0.179476  0.083958 -0.106738   1.000000  0.196717  0.014458   \n",
       "default         0.173681  0.023549 -0.103632   0.196717  1.000000  0.016749   \n",
       "housing         0.002291  0.000254 -0.006869   0.014458  0.016749  1.000000   \n",
       "loan           -0.007735 -0.010667 -0.001577  -0.012435 -0.005424 -0.056651   \n",
       "contact         0.013926 -0.000892 -0.043604   0.089978  0.135451  0.084472   \n",
       "month           0.076198  0.044855 -0.002495  -0.088788 -0.084580 -0.033252   \n",
       "day_of_week    -0.018949 -0.010270 -0.004309   0.006198 -0.004164  0.009280   \n",
       "duration       -0.001700  0.007004 -0.000542   0.010358 -0.011694  0.006804   \n",
       "campaign        0.007460 -0.013607  0.000403   0.002795  0.032923  0.010800   \n",
       "pdays          -0.024081 -0.057781 -0.016699   0.018098  0.080072  0.010719   \n",
       "previous        0.012806  0.052801  0.028844  -0.022279 -0.102533 -0.020446   \n",
       "poutcome        0.015415  0.051024  0.028815  -0.025146 -0.108285 -0.023483   \n",
       "emp.var.rate    0.017141 -0.071925 -0.047892   0.049076  0.203285  0.059862   \n",
       "cons.price.idx  0.009351 -0.022104 -0.023771   0.086692  0.168234  0.081920   \n",
       "cons.conf.idx   0.125220  0.042211 -0.051051  -0.013127  0.026443  0.034496   \n",
       "euribor3m       0.029099 -0.064421 -0.053781   0.040492  0.195337  0.058913   \n",
       "nr.employed     0.003432 -0.086201 -0.049536   0.029692  0.189829  0.045046   \n",
       "y               0.017666  0.055890  0.025622  -0.026894 -0.099344 -0.011743   \n",
       "\n",
       "                    loan   contact     month  day_of_week  ...  campaign  \\\n",
       "age            -0.007735  0.013926  0.076198    -0.018949  ...  0.007460   \n",
       "job            -0.010667 -0.000892  0.044855    -0.010270  ... -0.013607   \n",
       "marital        -0.001577 -0.043604 -0.002495    -0.004309  ...  0.000403   \n",
       "education      -0.012435  0.089978 -0.088788     0.006198  ...  0.002795   \n",
       "default        -0.005424  0.135451 -0.084580    -0.004164  ...  0.032923   \n",
       "housing        -0.056651  0.084472 -0.033252     0.009280  ...  0.010800   \n",
       "loan            1.000000 -0.013367 -0.001696     0.001850  ...  0.005294   \n",
       "contact        -0.013367  1.000000 -0.324315     0.019583  ...  0.077368   \n",
       "month          -0.001696 -0.324315  1.000000    -0.006959  ... -0.030635   \n",
       "day_of_week     0.001850  0.019583 -0.006959     1.000000  ...  0.015098   \n",
       "duration        0.000121 -0.026657 -0.019302     0.010549  ... -0.071699   \n",
       "campaign        0.005294  0.077368 -0.030635     0.015098  ...  1.000000   \n",
       "pdays          -0.000086  0.117970 -0.079556     0.006765  ...  0.052584   \n",
       "previous       -0.002143 -0.212848  0.063754     0.004013  ... -0.079141   \n",
       "poutcome       -0.000380 -0.226813  0.060841     0.003279  ... -0.086083   \n",
       "emp.var.rate    0.001193  0.393584  0.058874    -0.004401  ...  0.150754   \n",
       "cons.price.idx -0.005944  0.591474 -0.150350    -0.004586  ...  0.127836   \n",
       "cons.conf.idx  -0.013673  0.251614  0.264227    -0.000099  ... -0.013733   \n",
       "euribor3m      -0.000487  0.399773  0.163411    -0.005552  ...  0.135133   \n",
       "nr.employed     0.004205  0.269155  0.132697    -0.000734  ...  0.144095   \n",
       "y              -0.004466 -0.144773  0.037187     0.010051  ... -0.066357   \n",
       "\n",
       "                   pdays  previous  poutcome  emp.var.rate  cons.price.idx  \\\n",
       "age            -0.024081  0.012806  0.015415      0.017141        0.009351   \n",
       "job            -0.057781  0.052801  0.051024     -0.071925       -0.022104   \n",
       "marital        -0.016699  0.028844  0.028815     -0.047892       -0.023771   \n",
       "education       0.018098 -0.022279 -0.025146      0.049076        0.086692   \n",
       "default         0.080072 -0.102533 -0.108285      0.203285        0.168234   \n",
       "housing         0.010719 -0.020446 -0.023483      0.059862        0.081920   \n",
       "loan           -0.000086 -0.002143 -0.000380      0.001193       -0.005944   \n",
       "contact         0.117970 -0.212848 -0.226813      0.393584        0.591474   \n",
       "month          -0.079556  0.063754  0.060841      0.058874       -0.150350   \n",
       "day_of_week     0.006765  0.004013  0.003279     -0.004401       -0.004586   \n",
       "duration       -0.047577  0.020640  0.026465     -0.027968        0.005312   \n",
       "campaign        0.052584 -0.079141 -0.086083      0.150754        0.127836   \n",
       "pdays           1.000000 -0.587514 -0.744679      0.271004        0.078889   \n",
       "previous       -0.587514  1.000000  0.868540     -0.420489       -0.203130   \n",
       "poutcome       -0.744679  0.868540  1.000000     -0.457197       -0.259746   \n",
       "emp.var.rate    0.271004 -0.420489 -0.457197      1.000000        0.775334   \n",
       "cons.price.idx  0.078889 -0.203130 -0.259746      0.775334        1.000000   \n",
       "cons.conf.idx  -0.091342 -0.050936 -0.041728      0.196041        0.058986   \n",
       "euribor3m       0.296899 -0.454494 -0.478687      0.972245        0.688230   \n",
       "nr.employed     0.372605 -0.501333 -0.509597      0.906970        0.522034   \n",
       "y              -0.324914  0.230181  0.270373     -0.298334       -0.136211   \n",
       "\n",
       "                cons.conf.idx  euribor3m  nr.employed         y  \n",
       "age                  0.125220   0.029099     0.003432  0.017666  \n",
       "job                  0.042211  -0.064421    -0.086201  0.055890  \n",
       "marital             -0.051051  -0.053781    -0.049536  0.025622  \n",
       "education           -0.013127   0.040492     0.029692 -0.026894  \n",
       "default              0.026443   0.195337     0.189829 -0.099344  \n",
       "housing              0.034496   0.058913     0.045046 -0.011743  \n",
       "loan                -0.013673  -0.000487     0.004205 -0.004466  \n",
       "contact              0.251614   0.399773     0.269155 -0.144773  \n",
       "month                0.264227   0.163411     0.132697  0.037187  \n",
       "day_of_week         -0.000099  -0.005552    -0.000734  0.010051  \n",
       "duration            -0.008173  -0.032897    -0.044703  0.405274  \n",
       "campaign            -0.013733   0.135133     0.144095 -0.066357  \n",
       "pdays               -0.091342   0.296899     0.372605 -0.324914  \n",
       "previous            -0.050936  -0.454494    -0.501333  0.230181  \n",
       "poutcome            -0.041728  -0.478687    -0.509597  0.270373  \n",
       "emp.var.rate         0.196041   0.972245     0.906970 -0.298334  \n",
       "cons.price.idx       0.058986   0.688230     0.522034 -0.136211  \n",
       "cons.conf.idx        1.000000   0.277686     0.100513  0.054878  \n",
       "euribor3m            0.277686   1.000000     0.945154 -0.307771  \n",
       "nr.employed          0.100513   0.945154     1.000000 -0.354678  \n",
       "y                    0.054878  -0.307771    -0.354678  1.000000  \n",
       "\n",
       "[21 rows x 21 columns]"
      ]
     },
     "execution_count": 55,
     "metadata": {},
     "output_type": "execute_result"
    }
   ],
   "source": [
    "data.corr()"
   ]
  },
  {
   "cell_type": "code",
   "execution_count": 56,
   "metadata": {},
   "outputs": [
    {
     "data": {
      "text/plain": [
       "<matplotlib.axes._subplots.AxesSubplot at 0x1e66391abc8>"
      ]
     },
     "execution_count": 56,
     "metadata": {},
     "output_type": "execute_result"
    },
    {
     "data": {
      "image/png": "[encoded data removed]",
      "text/plain": [
       "<Figure size 1440x1080 with 2 Axes>"
      ]
     },
     "metadata": {
      "needs_background": "light"
     },
     "output_type": "display_data"
    }
   ],
   "source": [
    "plt.figure(figsize=(20,15))\n",
    "sns.heatmap(data.corr())"
   ]
  },
  {
   "cell_type": "code",
   "execution_count": 57,
   "metadata": {},
   "outputs": [],
   "source": [
    "X = data.drop('y', axis=1)\n",
    "Y = data.y"
   ]
  },
  {
   "cell_type": "code",
   "execution_count": 58,
   "metadata": {},
   "outputs": [
    {
     "data": {
      "text/html": [
       "<div>\n",
       "<style scoped>\n",
       "    .dataframe tbody tr th:only-of-type {\n",
       "        vertical-align: middle;\n",
       "    }\n",
       "\n",
       "    .dataframe tbody tr th {\n",
       "        vertical-align: top;\n",
       "    }\n",
       "\n",
       "    .dataframe thead th {\n",
       "        text-align: right;\n",
       "    }\n",
       "</style>\n",
       "<table border=\"1\" class=\"dataframe\">\n",
       "  <thead>\n",
       "    <tr style=\"text-align: right;\">\n",
       "      <th></th>\n",
       "      <th>age</th>\n",
       "      <th>job</th>\n",
       "      <th>marital</th>\n",
       "      <th>education</th>\n",
       "      <th>default</th>\n",
       "      <th>housing</th>\n",
       "      <th>loan</th>\n",
       "      <th>contact</th>\n",
       "      <th>month</th>\n",
       "      <th>day_of_week</th>\n",
       "      <th>duration</th>\n",
       "      <th>campaign</th>\n",
       "      <th>pdays</th>\n",
       "      <th>previous</th>\n",
       "      <th>poutcome</th>\n",
       "      <th>emp.var.rate</th>\n",
       "      <th>cons.price.idx</th>\n",
       "      <th>cons.conf.idx</th>\n",
       "      <th>euribor3m</th>\n",
       "      <th>nr.employed</th>\n",
       "    </tr>\n",
       "  </thead>\n",
       "  <tbody>\n",
       "    <tr>\n",
       "      <th>0</th>\n",
       "      <td>56</td>\n",
       "      <td>9</td>\n",
       "      <td>0</td>\n",
       "      <td>4</td>\n",
       "      <td>0</td>\n",
       "      <td>1</td>\n",
       "      <td>0</td>\n",
       "      <td>1</td>\n",
       "      <td>4</td>\n",
       "      <td>0</td>\n",
       "      <td>261</td>\n",
       "      <td>1</td>\n",
       "      <td>999</td>\n",
       "      <td>0</td>\n",
       "      <td>0</td>\n",
       "      <td>1.1</td>\n",
       "      <td>93.994</td>\n",
       "      <td>-36.4</td>\n",
       "      <td>4.857</td>\n",
       "      <td>5191.0</td>\n",
       "    </tr>\n",
       "    <tr>\n",
       "      <th>1</th>\n",
       "      <td>57</td>\n",
       "      <td>3</td>\n",
       "      <td>0</td>\n",
       "      <td>1</td>\n",
       "      <td>1</td>\n",
       "      <td>1</td>\n",
       "      <td>0</td>\n",
       "      <td>1</td>\n",
       "      <td>4</td>\n",
       "      <td>0</td>\n",
       "      <td>149</td>\n",
       "      <td>1</td>\n",
       "      <td>999</td>\n",
       "      <td>0</td>\n",
       "      <td>0</td>\n",
       "      <td>1.1</td>\n",
       "      <td>93.994</td>\n",
       "      <td>-36.4</td>\n",
       "      <td>4.857</td>\n",
       "      <td>5191.0</td>\n",
       "    </tr>\n",
       "    <tr>\n",
       "      <th>2</th>\n",
       "      <td>37</td>\n",
       "      <td>3</td>\n",
       "      <td>0</td>\n",
       "      <td>1</td>\n",
       "      <td>0</td>\n",
       "      <td>0</td>\n",
       "      <td>0</td>\n",
       "      <td>1</td>\n",
       "      <td>4</td>\n",
       "      <td>0</td>\n",
       "      <td>226</td>\n",
       "      <td>1</td>\n",
       "      <td>999</td>\n",
       "      <td>0</td>\n",
       "      <td>0</td>\n",
       "      <td>1.1</td>\n",
       "      <td>93.994</td>\n",
       "      <td>-36.4</td>\n",
       "      <td>4.857</td>\n",
       "      <td>5191.0</td>\n",
       "    </tr>\n",
       "    <tr>\n",
       "      <th>3</th>\n",
       "      <td>40</td>\n",
       "      <td>0</td>\n",
       "      <td>0</td>\n",
       "      <td>5</td>\n",
       "      <td>0</td>\n",
       "      <td>1</td>\n",
       "      <td>0</td>\n",
       "      <td>1</td>\n",
       "      <td>4</td>\n",
       "      <td>0</td>\n",
       "      <td>151</td>\n",
       "      <td>1</td>\n",
       "      <td>999</td>\n",
       "      <td>0</td>\n",
       "      <td>0</td>\n",
       "      <td>1.1</td>\n",
       "      <td>93.994</td>\n",
       "      <td>-36.4</td>\n",
       "      <td>4.857</td>\n",
       "      <td>5191.0</td>\n",
       "    </tr>\n",
       "    <tr>\n",
       "      <th>4</th>\n",
       "      <td>56</td>\n",
       "      <td>3</td>\n",
       "      <td>0</td>\n",
       "      <td>1</td>\n",
       "      <td>0</td>\n",
       "      <td>1</td>\n",
       "      <td>1</td>\n",
       "      <td>1</td>\n",
       "      <td>4</td>\n",
       "      <td>0</td>\n",
       "      <td>307</td>\n",
       "      <td>1</td>\n",
       "      <td>999</td>\n",
       "      <td>0</td>\n",
       "      <td>0</td>\n",
       "      <td>1.1</td>\n",
       "      <td>93.994</td>\n",
       "      <td>-36.4</td>\n",
       "      <td>4.857</td>\n",
       "      <td>5191.0</td>\n",
       "    </tr>\n",
       "  </tbody>\n",
       "</table>\n",
       "</div>"
      ],
      "text/plain": [
       "   age  job  marital  education  default  housing  loan  contact  month  \\\n",
       "0   56    9        0          4        0        1     0        1      4   \n",
       "1   57    3        0          1        1        1     0        1      4   \n",
       "2   37    3        0          1        0        0     0        1      4   \n",
       "3   40    0        0          5        0        1     0        1      4   \n",
       "4   56    3        0          1        0        1     1        1      4   \n",
       "\n",
       "   day_of_week  duration  campaign  pdays  previous  poutcome  emp.var.rate  \\\n",
       "0            0       261         1    999         0         0           1.1   \n",
       "1            0       149         1    999         0         0           1.1   \n",
       "2            0       226         1    999         0         0           1.1   \n",
       "3            0       151         1    999         0         0           1.1   \n",
       "4            0       307         1    999         0         0           1.1   \n",
       "\n",
       "   cons.price.idx  cons.conf.idx  euribor3m  nr.employed  \n",
       "0          93.994          -36.4      4.857       5191.0  \n",
       "1          93.994          -36.4      4.857       5191.0  \n",
       "2          93.994          -36.4      4.857       5191.0  \n",
       "3          93.994          -36.4      4.857       5191.0  \n",
       "4          93.994          -36.4      4.857       5191.0  "
      ]
     },
     "execution_count": 58,
     "metadata": {},
     "output_type": "execute_result"
    }
   ],
   "source": [
    "X.head()"
   ]
  },
  {
   "cell_type": "code",
   "execution_count": 59,
   "metadata": {},
   "outputs": [],
   "source": [
    "X = pd.get_dummies(X, columns=[\"job\", 'marital', \"education\", 'default', 'housing', 'loan', \n",
    "                               'contact', 'month','day_of_week'])"
   ]
  },
  {
   "cell_type": "code",
   "execution_count": 60,
   "metadata": {},
   "outputs": [
    {
     "data": {
      "text/html": [
       "<div>\n",
       "<style scoped>\n",
       "    .dataframe tbody tr th:only-of-type {\n",
       "        vertical-align: middle;\n",
       "    }\n",
       "\n",
       "    .dataframe tbody tr th {\n",
       "        vertical-align: top;\n",
       "    }\n",
       "\n",
       "    .dataframe thead th {\n",
       "        text-align: right;\n",
       "    }\n",
       "</style>\n",
       "<table border=\"1\" class=\"dataframe\">\n",
       "  <thead>\n",
       "    <tr style=\"text-align: right;\">\n",
       "      <th></th>\n",
       "      <th>age</th>\n",
       "      <th>duration</th>\n",
       "      <th>campaign</th>\n",
       "      <th>pdays</th>\n",
       "      <th>previous</th>\n",
       "      <th>poutcome</th>\n",
       "      <th>emp.var.rate</th>\n",
       "      <th>cons.price.idx</th>\n",
       "      <th>cons.conf.idx</th>\n",
       "      <th>euribor3m</th>\n",
       "      <th>...</th>\n",
       "      <th>month_7</th>\n",
       "      <th>month_8</th>\n",
       "      <th>month_9</th>\n",
       "      <th>month_10</th>\n",
       "      <th>month_11</th>\n",
       "      <th>day_of_week_0</th>\n",
       "      <th>day_of_week_1</th>\n",
       "      <th>day_of_week_2</th>\n",
       "      <th>day_of_week_3</th>\n",
       "      <th>day_of_week_4</th>\n",
       "    </tr>\n",
       "  </thead>\n",
       "  <tbody>\n",
       "    <tr>\n",
       "      <th>0</th>\n",
       "      <td>56</td>\n",
       "      <td>261</td>\n",
       "      <td>1</td>\n",
       "      <td>999</td>\n",
       "      <td>0</td>\n",
       "      <td>0</td>\n",
       "      <td>1.1</td>\n",
       "      <td>93.994</td>\n",
       "      <td>-36.4</td>\n",
       "      <td>4.857</td>\n",
       "      <td>...</td>\n",
       "      <td>0</td>\n",
       "      <td>0</td>\n",
       "      <td>0</td>\n",
       "      <td>0</td>\n",
       "      <td>0</td>\n",
       "      <td>1</td>\n",
       "      <td>0</td>\n",
       "      <td>0</td>\n",
       "      <td>0</td>\n",
       "      <td>0</td>\n",
       "    </tr>\n",
       "    <tr>\n",
       "      <th>1</th>\n",
       "      <td>57</td>\n",
       "      <td>149</td>\n",
       "      <td>1</td>\n",
       "      <td>999</td>\n",
       "      <td>0</td>\n",
       "      <td>0</td>\n",
       "      <td>1.1</td>\n",
       "      <td>93.994</td>\n",
       "      <td>-36.4</td>\n",
       "      <td>4.857</td>\n",
       "      <td>...</td>\n",
       "      <td>0</td>\n",
       "      <td>0</td>\n",
       "      <td>0</td>\n",
       "      <td>0</td>\n",
       "      <td>0</td>\n",
       "      <td>1</td>\n",
       "      <td>0</td>\n",
       "      <td>0</td>\n",
       "      <td>0</td>\n",
       "      <td>0</td>\n",
       "    </tr>\n",
       "    <tr>\n",
       "      <th>2</th>\n",
       "      <td>37</td>\n",
       "      <td>226</td>\n",
       "      <td>1</td>\n",
       "      <td>999</td>\n",
       "      <td>0</td>\n",
       "      <td>0</td>\n",
       "      <td>1.1</td>\n",
       "      <td>93.994</td>\n",
       "      <td>-36.4</td>\n",
       "      <td>4.857</td>\n",
       "      <td>...</td>\n",
       "      <td>0</td>\n",
       "      <td>0</td>\n",
       "      <td>0</td>\n",
       "      <td>0</td>\n",
       "      <td>0</td>\n",
       "      <td>1</td>\n",
       "      <td>0</td>\n",
       "      <td>0</td>\n",
       "      <td>0</td>\n",
       "      <td>0</td>\n",
       "    </tr>\n",
       "    <tr>\n",
       "      <th>3</th>\n",
       "      <td>40</td>\n",
       "      <td>151</td>\n",
       "      <td>1</td>\n",
       "      <td>999</td>\n",
       "      <td>0</td>\n",
       "      <td>0</td>\n",
       "      <td>1.1</td>\n",
       "      <td>93.994</td>\n",
       "      <td>-36.4</td>\n",
       "      <td>4.857</td>\n",
       "      <td>...</td>\n",
       "      <td>0</td>\n",
       "      <td>0</td>\n",
       "      <td>0</td>\n",
       "      <td>0</td>\n",
       "      <td>0</td>\n",
       "      <td>1</td>\n",
       "      <td>0</td>\n",
       "      <td>0</td>\n",
       "      <td>0</td>\n",
       "      <td>0</td>\n",
       "    </tr>\n",
       "    <tr>\n",
       "      <th>4</th>\n",
       "      <td>56</td>\n",
       "      <td>307</td>\n",
       "      <td>1</td>\n",
       "      <td>999</td>\n",
       "      <td>0</td>\n",
       "      <td>0</td>\n",
       "      <td>1.1</td>\n",
       "      <td>93.994</td>\n",
       "      <td>-36.4</td>\n",
       "      <td>4.857</td>\n",
       "      <td>...</td>\n",
       "      <td>0</td>\n",
       "      <td>0</td>\n",
       "      <td>0</td>\n",
       "      <td>0</td>\n",
       "      <td>0</td>\n",
       "      <td>1</td>\n",
       "      <td>0</td>\n",
       "      <td>0</td>\n",
       "      <td>0</td>\n",
       "      <td>0</td>\n",
       "    </tr>\n",
       "  </tbody>\n",
       "</table>\n",
       "<p>5 rows × 55 columns</p>\n",
       "</div>"
      ],
      "text/plain": [
       "   age  duration  campaign  pdays  previous  poutcome  emp.var.rate  \\\n",
       "0   56       261         1    999         0         0           1.1   \n",
       "1   57       149         1    999         0         0           1.1   \n",
       "2   37       226         1    999         0         0           1.1   \n",
       "3   40       151         1    999         0         0           1.1   \n",
       "4   56       307         1    999         0         0           1.1   \n",
       "\n",
       "   cons.price.idx  cons.conf.idx  euribor3m  ...  month_7  month_8  month_9  \\\n",
       "0          93.994          -36.4      4.857  ...        0        0        0   \n",
       "1          93.994          -36.4      4.857  ...        0        0        0   \n",
       "2          93.994          -36.4      4.857  ...        0        0        0   \n",
       "3          93.994          -36.4      4.857  ...        0        0        0   \n",
       "4          93.994          -36.4      4.857  ...        0        0        0   \n",
       "\n",
       "   month_10  month_11  day_of_week_0  day_of_week_1  day_of_week_2  \\\n",
       "0         0         0              1              0              0   \n",
       "1         0         0              1              0              0   \n",
       "2         0         0              1              0              0   \n",
       "3         0         0              1              0              0   \n",
       "4         0         0              1              0              0   \n",
       "\n",
       "   day_of_week_3  day_of_week_4  \n",
       "0              0              0  \n",
       "1              0              0  \n",
       "2              0              0  \n",
       "3              0              0  \n",
       "4              0              0  \n",
       "\n",
       "[5 rows x 55 columns]"
      ]
     },
     "execution_count": 60,
     "metadata": {},
     "output_type": "execute_result"
    }
   ],
   "source": [
    "X.head()"
   ]
  },
  {
   "cell_type": "code",
   "execution_count": 61,
   "metadata": {},
   "outputs": [
    {
     "data": {
      "text/plain": [
       "(41188, 55)"
      ]
     },
     "execution_count": 61,
     "metadata": {},
     "output_type": "execute_result"
    }
   ],
   "source": [
    "X.shape"
   ]
  },
  {
   "cell_type": "code",
   "execution_count": 62,
   "metadata": {},
   "outputs": [],
   "source": [
    "X_train, X_test, Y_train, Y_test = train_test_split(X, Y, test_size=0.2, random_state=42)"
   ]
  },
  {
   "cell_type": "code",
   "execution_count": 63,
   "metadata": {},
   "outputs": [
    {
     "name": "stdout",
     "output_type": "stream",
     "text": [
      "(32950, 55)\n",
      "(8238, 55)\n"
     ]
    }
   ],
   "source": [
    "print(X_train.shape)\n",
    "print(X_test.shape)"
   ]
  },
  {
   "cell_type": "markdown",
   "metadata": {},
   "source": [
    "## Support Vector Machine"
   ]
  },
  {
   "cell_type": "code",
   "execution_count": 64,
   "metadata": {},
   "outputs": [],
   "source": [
    "from sklearn.svm import SVC"
   ]
  },
  {
   "cell_type": "code",
   "execution_count": 65,
   "metadata": {},
   "outputs": [],
   "source": [
    "model = SVC().fit(X_train, Y_train)"
   ]
  },
  {
   "cell_type": "code",
   "execution_count": 66,
   "metadata": {},
   "outputs": [],
   "source": [
    "pred = model.predict(X_train)\n",
    "pred1 = model.predict(X_test)"
   ]
  },
  {
   "cell_type": "code",
   "execution_count": 67,
   "metadata": {},
   "outputs": [
    {
     "data": {
      "text/plain": [
       "array([[7176,  127],\n",
       "       [ 742,  193]], dtype=int64)"
      ]
     },
     "execution_count": 67,
     "metadata": {},
     "output_type": "execute_result"
    }
   ],
   "source": [
    "cm = confusion_matrix(Y_test, pred1)\n",
    "cm"
   ]
  },
  {
   "cell_type": "code",
   "execution_count": 68,
   "metadata": {},
   "outputs": [
    {
     "data": {
      "text/plain": [
       "0.8945132313668366"
      ]
     },
     "execution_count": 68,
     "metadata": {},
     "output_type": "execute_result"
    }
   ],
   "source": [
    "acc = accuracy_score(Y_test, pred1)\n",
    "acc"
   ]
  },
  {
   "cell_type": "code",
   "execution_count": 69,
   "metadata": {
    "scrolled": true
   },
   "outputs": [
    {
     "data": {
      "text/html": [
       "<div>\n",
       "<style scoped>\n",
       "    .dataframe tbody tr th:only-of-type {\n",
       "        vertical-align: middle;\n",
       "    }\n",
       "\n",
       "    .dataframe tbody tr th {\n",
       "        vertical-align: top;\n",
       "    }\n",
       "\n",
       "    .dataframe thead th {\n",
       "        text-align: right;\n",
       "    }\n",
       "</style>\n",
       "<table border=\"1\" class=\"dataframe\">\n",
       "  <thead>\n",
       "    <tr style=\"text-align: right;\">\n",
       "      <th>col_0</th>\n",
       "      <th>0</th>\n",
       "      <th>1</th>\n",
       "    </tr>\n",
       "    <tr>\n",
       "      <th>y</th>\n",
       "      <th></th>\n",
       "      <th></th>\n",
       "    </tr>\n",
       "  </thead>\n",
       "  <tbody>\n",
       "    <tr>\n",
       "      <th>0</th>\n",
       "      <td>28805</td>\n",
       "      <td>440</td>\n",
       "    </tr>\n",
       "    <tr>\n",
       "      <th>1</th>\n",
       "      <td>2906</td>\n",
       "      <td>799</td>\n",
       "    </tr>\n",
       "  </tbody>\n",
       "</table>\n",
       "</div>"
      ],
      "text/plain": [
       "col_0      0    1\n",
       "y                \n",
       "0      28805  440\n",
       "1       2906  799"
      ]
     },
     "execution_count": 69,
     "metadata": {},
     "output_type": "execute_result"
    }
   ],
   "source": [
    "pd.crosstab(Y_train, pred)"
   ]
  },
  {
   "cell_type": "markdown",
   "metadata": {},
   "source": [
    "# Logistic Regression"
   ]
  },
  {
   "cell_type": "code",
   "execution_count": 70,
   "metadata": {},
   "outputs": [],
   "source": [
    "from sklearn.linear_model import LogisticRegression"
   ]
  },
  {
   "cell_type": "code",
   "execution_count": 71,
   "metadata": {},
   "outputs": [
    {
     "name": "stderr",
     "output_type": "stream",
     "text": [
      "c:\\program files\\python37\\lib\\site-packages\\sklearn\\linear_model\\_logistic.py:764: ConvergenceWarning: lbfgs failed to converge (status=1):\n",
      "STOP: TOTAL NO. of ITERATIONS REACHED LIMIT.\n",
      "\n",
      "Increase the number of iterations (max_iter) or scale the data as shown in:\n",
      "    https://scikit-learn.org/stable/modules/preprocessing.html\n",
      "Please also refer to the documentation for alternative solver options:\n",
      "    https://scikit-learn.org/stable/modules/linear_model.html#logistic-regression\n",
      "  extra_warning_msg=_LOGISTIC_SOLVER_CONVERGENCE_MSG)\n"
     ]
    },
    {
     "data": {
      "text/plain": [
       "0.9133284777858703"
      ]
     },
     "execution_count": 71,
     "metadata": {},
     "output_type": "execute_result"
    }
   ],
   "source": [
    "model1 = LogisticRegression().fit(X_train, Y_train)\n",
    "model1.score(X_test, Y_test)"
   ]
  },
  {
   "cell_type": "markdown",
   "metadata": {},
   "source": [
    "# Random Forest Classifier"
   ]
  },
  {
   "cell_type": "code",
   "execution_count": 77,
   "metadata": {},
   "outputs": [],
   "source": [
    "from sklearn.ensemble import RandomForestClassifier"
   ]
  },
  {
   "cell_type": "code",
   "execution_count": 78,
   "metadata": {},
   "outputs": [],
   "source": [
    "model2 = RandomForestClassifier(n_estimators=700).fit(X_train, Y_train)\n",
    "Y_pred = model2.predict(X_test)"
   ]
  },
  {
   "cell_type": "code",
   "execution_count": 79,
   "metadata": {},
   "outputs": [
    {
     "data": {
      "text/plain": [
       "array([[7060,  243],\n",
       "       [ 483,  452]], dtype=int64)"
      ]
     },
     "execution_count": 79,
     "metadata": {},
     "output_type": "execute_result"
    }
   ],
   "source": [
    "cm1 = confusion_matrix(Y_test, Y_pred)\n",
    "cm1"
   ]
  },
  {
   "cell_type": "code",
   "execution_count": 80,
   "metadata": {},
   "outputs": [
    {
     "data": {
      "text/plain": [
       "0.9118718135469774"
      ]
     },
     "execution_count": 80,
     "metadata": {},
     "output_type": "execute_result"
    }
   ],
   "source": [
    "acc1 = accuracy_score(Y_test, Y_pred)\n",
    "acc1"
   ]
  },
  {
   "cell_type": "code",
   "execution_count": null,
   "metadata": {},
   "outputs": [],
   "source": []
  },
  {
   "cell_type": "code",
   "execution_count": null,
   "metadata": {},
   "outputs": [],
   "source": []
  }
 ],
 "metadata": {
  "kernelspec": {
   "display_name": "Python 3",
   "language": "python",
   "name": "python3"
  },
  "language_info": {
   "codemirror_mode": {
    "name": "ipython",
    "version": 3
   },
   "file_extension": ".py",
   "mimetype": "text/x-python",
   "name": "python",
   "nbconvert_exporter": "python",
   "pygments_lexer": "ipython3",
   "version": "3.7.4"
  }
 },
 "nbformat": 4,
 "nbformat_minor": 4
}
